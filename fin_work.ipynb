{
 "cells": [
  {
   "cell_type": "code",
   "execution_count": 1,
   "metadata": {
    "executionInfo": {
     "elapsed": 2676,
     "status": "ok",
     "timestamp": 1701710596011,
     "user": {
      "displayName": "Евгений Малов",
      "userId": "06257165098392198337"
     },
     "user_tz": -240
    },
    "id": "OLi4Fao5pO6Q"
   },
   "outputs": [
    {
     "name": "stderr",
     "output_type": "stream",
     "text": [
      "<frozen importlib._bootstrap>:228: RuntimeWarning: scipy._lib.messagestream.MessageStream size changed, may indicate binary incompatibility. Expected 56 from C header, got 64 from PyObject\n"
     ]
    }
   ],
   "source": [
    "import dill\n",
    "import pickle\n",
    "import pandas as pd\n",
    "import numpy as np\n",
    "import matplotlib.pyplot as plt\n",
    "import seaborn as sns\n",
    "\n",
    "from sklearn.pipeline import Pipeline\n",
    "from sklearn.preprocessing import OneHotEncoder\n",
    "from sklearn.model_selection import train_test_split\n",
    "from sklearn.preprocessing import MinMaxScaler\n",
    "from sklearn.compose import ColumnTransformer, make_column_selector\n",
    "from sklearn.preprocessing import FunctionTransformer\n",
    "\n",
    "from sklearn.linear_model import LogisticRegression\n",
    "from sklearn.metrics import roc_auc_score\n",
    "\n",
    "import warnings\n",
    "warnings.filterwarnings('ignore')\n"
   ]
  },
  {
   "cell_type": "markdown",
   "metadata": {},
   "source": [
    "## EDA and Feature Ingeeniring"
   ]
  },
  {
   "cell_type": "code",
   "execution_count": 2,
   "metadata": {
    "executionInfo": {
     "elapsed": 5952,
     "status": "ok",
     "timestamp": 1701710611082,
     "user": {
      "displayName": "Евгений Малов",
      "userId": "06257165098392198337"
     },
     "user_tz": -240
    },
    "id": "O4AZtqN_sGpO"
   },
   "outputs": [],
   "source": [
    "with open('data/ga_sessions.pkl', 'rb') as file:\n",
    "    sessions = pickle.load(file)"
   ]
  },
  {
   "cell_type": "code",
   "execution_count": 3,
   "metadata": {
    "colab": {
     "base_uri": "https://localhost:8080/",
     "height": 244
    },
    "executionInfo": {
     "elapsed": 310,
     "status": "ok",
     "timestamp": 1701710155051,
     "user": {
      "displayName": "Евгений Малов",
      "userId": "06257165098392198337"
     },
     "user_tz": -240
    },
    "id": "UkHyERPqpkch",
    "outputId": "6b50a135-c362-49bb-cfe5-a7c9925fb9c9",
    "scrolled": true
   },
   "outputs": [
    {
     "data": {
      "text/html": [
       "<div>\n",
       "<style scoped>\n",
       "    .dataframe tbody tr th:only-of-type {\n",
       "        vertical-align: middle;\n",
       "    }\n",
       "\n",
       "    .dataframe tbody tr th {\n",
       "        vertical-align: top;\n",
       "    }\n",
       "\n",
       "    .dataframe thead th {\n",
       "        text-align: right;\n",
       "    }\n",
       "</style>\n",
       "<table border=\"1\" class=\"dataframe\">\n",
       "  <thead>\n",
       "    <tr style=\"text-align: right;\">\n",
       "      <th></th>\n",
       "      <th>session_id</th>\n",
       "      <th>client_id</th>\n",
       "      <th>visit_date</th>\n",
       "      <th>visit_time</th>\n",
       "      <th>visit_number</th>\n",
       "      <th>utm_source</th>\n",
       "      <th>utm_medium</th>\n",
       "      <th>utm_campaign</th>\n",
       "      <th>utm_adcontent</th>\n",
       "      <th>utm_keyword</th>\n",
       "      <th>device_category</th>\n",
       "      <th>device_os</th>\n",
       "      <th>device_brand</th>\n",
       "      <th>device_model</th>\n",
       "      <th>device_screen_resolution</th>\n",
       "      <th>device_browser</th>\n",
       "      <th>geo_country</th>\n",
       "      <th>geo_city</th>\n",
       "    </tr>\n",
       "  </thead>\n",
       "  <tbody>\n",
       "    <tr>\n",
       "      <th>0</th>\n",
       "      <td>9055434745589932991.1637753792.1637753792</td>\n",
       "      <td>2108382700.1637753791</td>\n",
       "      <td>2021-11-24</td>\n",
       "      <td>14:36:32</td>\n",
       "      <td>1</td>\n",
       "      <td>ZpYIoDJMcFzVoPFsHGJL</td>\n",
       "      <td>banner</td>\n",
       "      <td>LEoPHuyFvzoNfnzGgfcd</td>\n",
       "      <td>vCIpmpaGBnIQhyYNkXqp</td>\n",
       "      <td>puhZPIYqKXeFPaUviSjo</td>\n",
       "      <td>mobile</td>\n",
       "      <td>Android</td>\n",
       "      <td>Huawei</td>\n",
       "      <td>NaN</td>\n",
       "      <td>360x720</td>\n",
       "      <td>Chrome</td>\n",
       "      <td>Russia</td>\n",
       "      <td>Zlatoust</td>\n",
       "    </tr>\n",
       "    <tr>\n",
       "      <th>1</th>\n",
       "      <td>905544597018549464.1636867290.1636867290</td>\n",
       "      <td>210838531.1636867288</td>\n",
       "      <td>2021-11-14</td>\n",
       "      <td>08:21:30</td>\n",
       "      <td>1</td>\n",
       "      <td>MvfHsxITijuriZxsqZqt</td>\n",
       "      <td>cpm</td>\n",
       "      <td>FTjNLDyTrXaWYgZymFkV</td>\n",
       "      <td>xhoenQgDQsgfEPYNPwKO</td>\n",
       "      <td>IGUCNvHlhfHpROGclCit</td>\n",
       "      <td>mobile</td>\n",
       "      <td>Android</td>\n",
       "      <td>Samsung</td>\n",
       "      <td>NaN</td>\n",
       "      <td>385x854</td>\n",
       "      <td>Samsung Internet</td>\n",
       "      <td>Russia</td>\n",
       "      <td>Moscow</td>\n",
       "    </tr>\n",
       "    <tr>\n",
       "      <th>2</th>\n",
       "      <td>9055446045651783499.1640648526.1640648526</td>\n",
       "      <td>2108385331.1640648523</td>\n",
       "      <td>2021-12-28</td>\n",
       "      <td>02:42:06</td>\n",
       "      <td>1</td>\n",
       "      <td>ZpYIoDJMcFzVoPFsHGJL</td>\n",
       "      <td>banner</td>\n",
       "      <td>LEoPHuyFvzoNfnzGgfcd</td>\n",
       "      <td>vCIpmpaGBnIQhyYNkXqp</td>\n",
       "      <td>puhZPIYqKXeFPaUviSjo</td>\n",
       "      <td>mobile</td>\n",
       "      <td>Android</td>\n",
       "      <td>Huawei</td>\n",
       "      <td>NaN</td>\n",
       "      <td>360x720</td>\n",
       "      <td>Chrome</td>\n",
       "      <td>Russia</td>\n",
       "      <td>Krasnoyarsk</td>\n",
       "    </tr>\n",
       "    <tr>\n",
       "      <th>3</th>\n",
       "      <td>9055447046360770272.1622255328.1622255328</td>\n",
       "      <td>2108385564.1622255328</td>\n",
       "      <td>2021-05-29</td>\n",
       "      <td>05:00:00</td>\n",
       "      <td>1</td>\n",
       "      <td>kjsLglQLzykiRbcDiGcD</td>\n",
       "      <td>cpc</td>\n",
       "      <td>NaN</td>\n",
       "      <td>NOBKLgtuvqYWkXQHeYWM</td>\n",
       "      <td>NaN</td>\n",
       "      <td>mobile</td>\n",
       "      <td>None</td>\n",
       "      <td>Xiaomi</td>\n",
       "      <td>NaN</td>\n",
       "      <td>393x786</td>\n",
       "      <td>Chrome</td>\n",
       "      <td>Russia</td>\n",
       "      <td>Moscow</td>\n",
       "    </tr>\n",
       "    <tr>\n",
       "      <th>4</th>\n",
       "      <td>9055447046360770272.1622255345.1622255345</td>\n",
       "      <td>2108385564.1622255328</td>\n",
       "      <td>2021-05-29</td>\n",
       "      <td>05:00:00</td>\n",
       "      <td>2</td>\n",
       "      <td>kjsLglQLzykiRbcDiGcD</td>\n",
       "      <td>cpc</td>\n",
       "      <td>NaN</td>\n",
       "      <td>NaN</td>\n",
       "      <td>NaN</td>\n",
       "      <td>mobile</td>\n",
       "      <td>None</td>\n",
       "      <td>Xiaomi</td>\n",
       "      <td>NaN</td>\n",
       "      <td>393x786</td>\n",
       "      <td>Chrome</td>\n",
       "      <td>Russia</td>\n",
       "      <td>Moscow</td>\n",
       "    </tr>\n",
       "  </tbody>\n",
       "</table>\n",
       "</div>"
      ],
      "text/plain": [
       "                                  session_id              client_id  \\\n",
       "0  9055434745589932991.1637753792.1637753792  2108382700.1637753791   \n",
       "1   905544597018549464.1636867290.1636867290   210838531.1636867288   \n",
       "2  9055446045651783499.1640648526.1640648526  2108385331.1640648523   \n",
       "3  9055447046360770272.1622255328.1622255328  2108385564.1622255328   \n",
       "4  9055447046360770272.1622255345.1622255345  2108385564.1622255328   \n",
       "\n",
       "   visit_date visit_time  visit_number            utm_source utm_medium  \\\n",
       "0  2021-11-24   14:36:32             1  ZpYIoDJMcFzVoPFsHGJL     banner   \n",
       "1  2021-11-14   08:21:30             1  MvfHsxITijuriZxsqZqt        cpm   \n",
       "2  2021-12-28   02:42:06             1  ZpYIoDJMcFzVoPFsHGJL     banner   \n",
       "3  2021-05-29   05:00:00             1  kjsLglQLzykiRbcDiGcD        cpc   \n",
       "4  2021-05-29   05:00:00             2  kjsLglQLzykiRbcDiGcD        cpc   \n",
       "\n",
       "           utm_campaign         utm_adcontent           utm_keyword  \\\n",
       "0  LEoPHuyFvzoNfnzGgfcd  vCIpmpaGBnIQhyYNkXqp  puhZPIYqKXeFPaUviSjo   \n",
       "1  FTjNLDyTrXaWYgZymFkV  xhoenQgDQsgfEPYNPwKO  IGUCNvHlhfHpROGclCit   \n",
       "2  LEoPHuyFvzoNfnzGgfcd  vCIpmpaGBnIQhyYNkXqp  puhZPIYqKXeFPaUviSjo   \n",
       "3                   NaN  NOBKLgtuvqYWkXQHeYWM                   NaN   \n",
       "4                   NaN                   NaN                   NaN   \n",
       "\n",
       "  device_category device_os device_brand device_model  \\\n",
       "0          mobile   Android       Huawei          NaN   \n",
       "1          mobile   Android      Samsung          NaN   \n",
       "2          mobile   Android       Huawei          NaN   \n",
       "3          mobile      None       Xiaomi          NaN   \n",
       "4          mobile      None       Xiaomi          NaN   \n",
       "\n",
       "  device_screen_resolution    device_browser geo_country     geo_city  \n",
       "0                  360x720            Chrome      Russia     Zlatoust  \n",
       "1                  385x854  Samsung Internet      Russia       Moscow  \n",
       "2                  360x720            Chrome      Russia  Krasnoyarsk  \n",
       "3                  393x786            Chrome      Russia       Moscow  \n",
       "4                  393x786            Chrome      Russia       Moscow  "
      ]
     },
     "execution_count": 3,
     "metadata": {},
     "output_type": "execute_result"
    }
   ],
   "source": [
    "sessions.head()"
   ]
  },
  {
   "cell_type": "code",
   "execution_count": 4,
   "metadata": {
    "colab": {
     "base_uri": "https://localhost:8080/"
    },
    "executionInfo": {
     "elapsed": 284,
     "status": "ok",
     "timestamp": 1701710668544,
     "user": {
      "displayName": "Евгений Малов",
      "userId": "06257165098392198337"
     },
     "user_tz": -240
    },
    "id": "godRFrlIpkpQ",
    "outputId": "3c3894c8-d96b-455b-93cf-d8bb1387f6b0"
   },
   "outputs": [
    {
     "name": "stdout",
     "output_type": "stream",
     "text": [
      "<class 'pandas.core.frame.DataFrame'>\n",
      "RangeIndex: 1860042 entries, 0 to 1860041\n",
      "Data columns (total 18 columns):\n",
      " #   Column                    Dtype \n",
      "---  ------                    ----- \n",
      " 0   session_id                object\n",
      " 1   client_id                 object\n",
      " 2   visit_date                object\n",
      " 3   visit_time                object\n",
      " 4   visit_number              int64 \n",
      " 5   utm_source                object\n",
      " 6   utm_medium                object\n",
      " 7   utm_campaign              object\n",
      " 8   utm_adcontent             object\n",
      " 9   utm_keyword               object\n",
      " 10  device_category           object\n",
      " 11  device_os                 object\n",
      " 12  device_brand              object\n",
      " 13  device_model              object\n",
      " 14  device_screen_resolution  object\n",
      " 15  device_browser            object\n",
      " 16  geo_country               object\n",
      " 17  geo_city                  object\n",
      "dtypes: int64(1), object(17)\n",
      "memory usage: 255.4+ MB\n"
     ]
    }
   ],
   "source": [
    "sessions.info()"
   ]
  },
  {
   "cell_type": "code",
   "execution_count": 5,
   "metadata": {
    "colab": {
     "base_uri": "https://localhost:8080/"
    },
    "executionInfo": {
     "elapsed": 292,
     "status": "ok",
     "timestamp": 1701710694840,
     "user": {
      "displayName": "Евгений Малов",
      "userId": "06257165098392198337"
     },
     "user_tz": -240
    },
    "id": "P3XAoWUs3Ezd",
    "outputId": "9bec0ca7-86e4-4416-91a7-60b71889486b"
   },
   "outputs": [
    {
     "data": {
      "text/plain": [
       "(1860042, 18)"
      ]
     },
     "execution_count": 5,
     "metadata": {},
     "output_type": "execute_result"
    }
   ],
   "source": [
    "sessions.shape"
   ]
  },
  {
   "cell_type": "code",
   "execution_count": 6,
   "metadata": {
    "colab": {
     "base_uri": "https://localhost:8080/"
    },
    "executionInfo": {
     "elapsed": 4658,
     "status": "ok",
     "timestamp": 1701710854278,
     "user": {
      "displayName": "Евгений Малов",
      "userId": "06257165098392198337"
     },
     "user_tz": -240
    },
    "id": "Gb2JUHBW22jP",
    "outputId": "4adef0bb-4a84-43ed-bec4-5e743c968704"
   },
   "outputs": [
    {
     "name": "stdout",
     "output_type": "stream",
     "text": [
      "session_id, 0, % isna 0.0 %\n",
      "client_id, 0, % isna 0.0 %\n",
      "visit_date, 0, % isna 0.0 %\n",
      "visit_time, 0, % isna 0.0 %\n",
      "visit_number, 0, % isna 0.0 %\n",
      "utm_source, 97, % isna 0.01 %\n",
      "utm_medium, 0, % isna 0.0 %\n",
      "utm_campaign, 219603, % isna 11.81 %\n",
      "utm_adcontent, 335615, % isna 18.04 %\n",
      "utm_keyword, 1082061, % isna 58.17 %\n",
      "device_category, 0, % isna 0.0 %\n",
      "device_os, 1070138, % isna 57.53 %\n",
      "device_brand, 118678, % isna 6.38 %\n",
      "device_model, 1843704, % isna 99.12 %\n",
      "device_screen_resolution, 0, % isna 0.0 %\n",
      "device_browser, 0, % isna 0.0 %\n",
      "geo_country, 0, % isna 0.0 %\n",
      "geo_city, 0, % isna 0.0 %\n"
     ]
    }
   ],
   "source": [
    "cols = sessions.columns.to_list()\n",
    "\n",
    "for col in cols:\n",
    "    print(f'{col}, {sum(sessions[col].isna())}, % isna {round(100 * sum(sessions[col].isna()) / sessions.shape[0], 2)} %')"
   ]
  },
  {
   "cell_type": "code",
   "execution_count": 13,
   "metadata": {},
   "outputs": [
    {
     "data": {
      "text/plain": [
       "(1860042, 18)"
      ]
     },
     "execution_count": 13,
     "metadata": {},
     "output_type": "execute_result"
    }
   ],
   "source": [
    "#drop_duplicates\n",
    "sessions.drop_duplicates()\n",
    "sessions.shape"
   ]
  },
  {
   "cell_type": "code",
   "execution_count": 15,
   "metadata": {},
   "outputs": [
    {
     "data": {
      "text/plain": [
       "(1860042, 15)"
      ]
     },
     "execution_count": 15,
     "metadata": {},
     "output_type": "execute_result"
    }
   ],
   "source": [
    "# del empty cols\n",
    "empty_cols = ['utm_keyword', 'device_os', 'device_model', 'utm_campaign', 'utm_adcontent', 'visit_time']\n",
    "sessions = sessions.drop(empty_cols, axis=1)\n",
    "sessions.shape"
   ]
  },
  {
   "cell_type": "code",
   "execution_count": null,
   "metadata": {},
   "outputs": [],
   "source": [
    "#transform cols\n",
    "Органический трафик — все визиты с ga_sessions.utm_medium in ('organic',\n",
    "'referral', '(none)').\n",
    "\n",
    "Реклама в социальных сетях — все визиты с ga_sessions.utm_source in\n",
    "('QxAxdyPLuQMEcrdZWdWb', 'MvfHsxITijuriZxsqZqt', 'ISrKoXQCxqqYvAZICvjs',\n",
    "'IZEXUFLARCUMynmHNBGo', 'PlbkrSYoHuZBWfYjYnfw',\n",
    "'gVRrcxiDQubJiljoTbGm')."
   ]
  },
  {
   "cell_type": "code",
   "execution_count": 27,
   "metadata": {},
   "outputs": [
    {
     "data": {
      "text/plain": [
       "banner               552272\n",
       "cpc                  434794\n",
       "(none)               300575\n",
       "cpm                  242083\n",
       "referral             152050\n",
       "organic               63034\n",
       "email                 29240\n",
       "push                  28035\n",
       "stories               10582\n",
       "cpv                    8022\n",
       "blogger_channel        8015\n",
       "smartbanner            6794\n",
       "blogger_stories        4312\n",
       "cpa                    4279\n",
       "tg                     4011\n",
       "app                    2836\n",
       "post                   2326\n",
       "smm                    1985\n",
       "outlook                1332\n",
       "clicks                  934\n",
       "blogger_header          771\n",
       "(not set)               480\n",
       "info_text               343\n",
       "sms                     239\n",
       "landing                 134\n",
       "partner                  97\n",
       "fb_smm                   66\n",
       "vk_smm                   65\n",
       "link                     57\n",
       "cbaafe                   47\n",
       "CPM                      40\n",
       "yandex_cpc               36\n",
       "ok_smm                   28\n",
       "static                   22\n",
       "google_cpc               20\n",
       "article                  17\n",
       "nkp                      14\n",
       "web_polka                11\n",
       "social                    9\n",
       "medium                    8\n",
       "main_polka                4\n",
       "catalogue                 4\n",
       "users_msk                 3\n",
       "reach                     2\n",
       "promo_sber                2\n",
       "linktest                  2\n",
       "promo_sbol                1\n",
       "Sbol_catalog              1\n",
       "desktop                   1\n",
       "dom_click                 1\n",
       "tablet                    1\n",
       "sber_app                  1\n",
       "last                      1\n",
       "qr                        1\n",
       "qrcodevideo               1\n",
       "landing_interests         1\n",
       "Name: utm_medium, dtype: int64"
      ]
     },
     "execution_count": 27,
     "metadata": {},
     "output_type": "execute_result"
    }
   ],
   "source": [
    "sessions['utm_medium'].value_counts()"
   ]
  },
  {
   "cell_type": "code",
   "execution_count": 29,
   "metadata": {},
   "outputs": [],
   "source": [
    "# Разделим трафик по категориям: огранический, самые популярные неорганический и остальные\n",
    "sessions['utm_medium'] = sessions['utm_medium'].apply(lambda x: 'organic' if x in ['organic', 'referral', '(none)'] else x)"
   ]
  },
  {
   "cell_type": "code",
   "execution_count": 31,
   "metadata": {},
   "outputs": [],
   "source": [
    "sessions['utm_medium'] = sessions['utm_medium'].apply(lambda x: x if x in ['organic', 'banner', 'cpc', 'cpm'] else 'other')"
   ]
  },
  {
   "cell_type": "code",
   "execution_count": 32,
   "metadata": {},
   "outputs": [
    {
     "data": {
      "text/plain": [
       "banner     552272\n",
       "organic    515659\n",
       "cpc        434794\n",
       "cpm        242083\n",
       "other      115234\n",
       "Name: utm_medium, dtype: int64"
      ]
     },
     "execution_count": 32,
     "metadata": {},
     "output_type": "execute_result"
    }
   ],
   "source": [
    "sessions['utm_medium'].value_counts()"
   ]
  },
  {
   "cell_type": "code",
   "execution_count": 28,
   "metadata": {},
   "outputs": [
    {
     "data": {
      "text/plain": [
       "ZpYIoDJMcFzVoPFsHGJL    578290\n",
       "fDLlAcSmythWSCVMvqvL    300575\n",
       "kjsLglQLzykiRbcDiGcD    266354\n",
       "MvfHsxITijuriZxsqZqt    186199\n",
       "BHcvLfOaCWvWTykYqHVe    116320\n",
       "                         ...  \n",
       "GYkgJdhSxirUFPHFiYSe         1\n",
       "WRHPhoRKhKxaenRCLBfo         1\n",
       "tjKUGseGMhkLEzdCqBRx         1\n",
       "wpmatvDuiMutnvmNVPJo         1\n",
       "BellrslNBZQZaIxVFGXJ         1\n",
       "Name: utm_source, Length: 293, dtype: int64"
      ]
     },
     "execution_count": 28,
     "metadata": {},
     "output_type": "execute_result"
    }
   ],
   "source": [
    "sessions['utm_source'].value_counts()"
   ]
  },
  {
   "cell_type": "code",
   "execution_count": 33,
   "metadata": {},
   "outputs": [],
   "source": [
    "# Рекламу в соц сетях разделим на да - 1, нет - 0\n",
    "commerce = ['QxAxdyPLuQMEcrdZWdWb', 'MvfHsxITijuriZxsqZqt', 'ISrKoXQCxqqYvAZICvjs',\n",
    "'IZEXUFLARCUMynmHNBGo', 'PlbkrSYoHuZBWfYjYnfw',\n",
    "'gVRrcxiDQubJiljoTbGm']\n",
    "\n",
    "sessions['utm_source'] = sessions['utm_source'].apply(lambda x: 1 if x in commerce else 0)"
   ]
  },
  {
   "cell_type": "code",
   "execution_count": 34,
   "metadata": {},
   "outputs": [
    {
     "data": {
      "text/plain": [
       "0    1585815\n",
       "1     274227\n",
       "Name: utm_source, dtype: int64"
      ]
     },
     "execution_count": 34,
     "metadata": {},
     "output_type": "execute_result"
    }
   ],
   "source": [
    "sessions['utm_source'].value_counts()"
   ]
  },
  {
   "cell_type": "code",
   "execution_count": 35,
   "metadata": {},
   "outputs": [
    {
     "data": {
      "text/plain": [
       "LTuZkdKfxRGVceoWkVyg    463481\n",
       "LEoPHuyFvzoNfnzGgfcd    324044\n",
       "FTjNLDyTrXaWYgZymFkV    247360\n",
       "gecBYcKZCPMcVYdSSzKP    134042\n",
       "TmThBvoCcwkCZZUWACYq     26597\n",
       "                         ...  \n",
       "cqgnjDbqrtCipVvzhxqa         1\n",
       "AdtHYglxfCpTpwZeTAuW         1\n",
       "pcvPxfVFaAmhwFmvIeYd         1\n",
       "qPDTdivQVeflLjTYIJnG         1\n",
       "cXxuwXPoQCvAXPHpFcZl         1\n",
       "Name: utm_campaign, Length: 412, dtype: int64"
      ]
     },
     "execution_count": 35,
     "metadata": {},
     "output_type": "execute_result"
    }
   ],
   "source": [
    "# Непонятные значения. Удалю.\n",
    "sessions['utm_campaign'].value_counts()"
   ]
  },
  {
   "cell_type": "code",
   "execution_count": 36,
   "metadata": {},
   "outputs": [
    {
     "data": {
      "text/plain": [
       "JNHcPlZPxEMWDnRiyoBf    1006599\n",
       "vCIpmpaGBnIQhyYNkXqp     181048\n",
       "xhoenQgDQsgfEPYNPwKO     113072\n",
       "PkybGvWbaqORmxjNunqZ      60316\n",
       "LLfCasrxQzJIyuldcuWy      24222\n",
       "                         ...   \n",
       "ryswqHdLvbezpDLjokYF          1\n",
       "gQEnaeQmOHisHSTEyzhp          1\n",
       "PlanrlymnpCeYvUrUTVJ          1\n",
       "WbXQsVOKLOcJrHikuQTZ          1\n",
       "oJivRDNIrrOckRBIKOtG          1\n",
       "Name: utm_adcontent, Length: 286, dtype: int64"
      ]
     },
     "execution_count": 36,
     "metadata": {},
     "output_type": "execute_result"
    }
   ],
   "source": [
    "# Непонятные значения. Удалю.\n",
    "sessions['utm_adcontent'].value_counts()"
   ]
  },
  {
   "cell_type": "code",
   "execution_count": 48,
   "metadata": {},
   "outputs": [],
   "source": [
    "#sessions = sessions.drop(['utm_campaign', 'utm_adcontent'], axis=1)"
   ]
  },
  {
   "cell_type": "code",
   "execution_count": 37,
   "metadata": {},
   "outputs": [
    {
     "data": {
      "text/plain": [
       "Apple       551088\n",
       "Samsung     332194\n",
       "Xiaomi      288367\n",
       "            248500\n",
       "Huawei      185853\n",
       "             ...  \n",
       "Vodafone         1\n",
       "Wexler           1\n",
       "KingSing         1\n",
       "Star             1\n",
       "Opera            1\n",
       "Name: device_brand, Length: 206, dtype: int64"
      ]
     },
     "execution_count": 37,
     "metadata": {},
     "output_type": "execute_result"
    }
   ],
   "source": [
    "# Разделю на самые популярные и остальные\n",
    "sessions['device_brand'].value_counts()"
   ]
  },
  {
   "cell_type": "code",
   "execution_count": 49,
   "metadata": {},
   "outputs": [],
   "source": [
    "sessions['device_brand'] = sessions['device_brand'].apply(lambda x: x if x in ['Apple', 'Samsung', 'Xiaomi', 'Huawei'] \n",
    "                                                          else 'other')"
   ]
  },
  {
   "cell_type": "code",
   "execution_count": 39,
   "metadata": {},
   "outputs": [
    {
     "data": {
      "text/plain": [
       "414x896      169090\n",
       "1920x1080    125768\n",
       "375x812      117944\n",
       "393x851      115454\n",
       "375x667       93341\n",
       "              ...  \n",
       "2262x1553         1\n",
       "1097x617          1\n",
       "421x847           1\n",
       "1791x1007         1\n",
       "464x1123          1\n",
       "Name: device_screen_resolution, Length: 5039, dtype: int64"
      ]
     },
     "execution_count": 39,
     "metadata": {},
     "output_type": "execute_result"
    }
   ],
   "source": [
    "# Разделю на самые популярные и остальные\n",
    "sessions['device_screen_resolution'].value_counts()"
   ]
  },
  {
   "cell_type": "code",
   "execution_count": null,
   "metadata": {},
   "outputs": [],
   "source": [
    "sessions['device_screen_resolution'] = sessions['device_screen_resolution'].apply(lambda x: x if x in \n",
    "                                        ['414x896', '1920x1080', '375x812', '393x851'] else 'other')"
   ]
  },
  {
   "cell_type": "code",
   "execution_count": 40,
   "metadata": {},
   "outputs": [
    {
     "data": {
      "text/plain": [
       "Chrome                              1013436\n",
       "Safari                               478562\n",
       "YaBrowser                            133311\n",
       "Safari (in-app)                       69912\n",
       "Android Webview                       55369\n",
       "Samsung Internet                      47309\n",
       "Opera                                 26817\n",
       "Firefox                               16588\n",
       "Edge                                  16065\n",
       "UC Browser                              871\n",
       "Android Runtime                         392\n",
       "Mozilla Compatible Agent                362\n",
       "[FBAN                                   269\n",
       "Instagram 208.0.0.32.135 Android        140\n",
       "Instagram 209.0.0.21.119 Android        111\n",
       "MRCHROME                                 77\n",
       "Android Browser                          49\n",
       "Opera Mini                               45\n",
       "Puffin                                   45\n",
       "Internet Explorer                        36\n",
       "Maxthon                                  31\n",
       "Android                                  22\n",
       "Instagram 216.1.0.21.137 Android         19\n",
       "Mozilla                                  17\n",
       "(not set)                                17\n",
       "Instagram 216.0.0.12.135                 17\n",
       "Instagram 202.0.0.23.119                 17\n",
       "Instagram 194.0.0.36.172 Android         15\n",
       "Instagram 207.0.0.28.118                 14\n",
       "Instagram 202.0.0.37.123 Android         12\n",
       "com.vk.vkclient                           8\n",
       "Instagram 192.0.0.37.119                  7\n",
       "Amazon Silk                               7\n",
       "helloworld                                6\n",
       "Coc Coc                                   6\n",
       "Instagram 213.0.0.19.117                  6\n",
       "Instagram 203.0.0.26.117                  6\n",
       "Instagram 212.0.0.38.119 Android          6\n",
       "Instagram 201.0.0.23.111                  5\n",
       "Instagram 213.0.0.29.120 Android          5\n",
       "Instagram 208.0.0.26.131                  5\n",
       "SeaMonkey                                 4\n",
       "Instagram 192.0.0.35.123 Android          3\n",
       "Instagram 158.0.0.30.123 Android          3\n",
       "MyApp                                     2\n",
       "Iron                                      2\n",
       "Instagram 199.0.0.27.120                  2\n",
       "NetFront                                  2\n",
       "Instagram 199.1.0.34.119 Android          2\n",
       "com.zhiliaoapp.musically                  1\n",
       "Konqueror                                 1\n",
       "NokiaX2-02                                1\n",
       "Phantom Browser                           1\n",
       "Instagram 206.1.0.34.121 Android          1\n",
       "Nokia501                                  1\n",
       "MT6735_TD                                 1\n",
       "Threads 202.0.0.23.119                    1\n",
       "Name: device_browser, dtype: int64"
      ]
     },
     "execution_count": 40,
     "metadata": {},
     "output_type": "execute_result"
    }
   ],
   "source": [
    "# Разделю на Хром, Сафари и остальные. Отдельно соберу Сафари в одну строку\n",
    "sessions['device_browser'].value_counts()"
   ]
  },
  {
   "cell_type": "code",
   "execution_count": 54,
   "metadata": {},
   "outputs": [],
   "source": [
    "sessions['device_browser'] = sessions['device_browser'].apply(lambda x: 'Safari' if 'Safari' in \n",
    "                                        x else x)"
   ]
  },
  {
   "cell_type": "code",
   "execution_count": 55,
   "metadata": {},
   "outputs": [],
   "source": [
    "sessions['device_browser'] = sessions['device_browser'].apply(lambda x: x if x in ['Safari', 'Chrome'] else 'other')"
   ]
  },
  {
   "cell_type": "code",
   "execution_count": 56,
   "metadata": {},
   "outputs": [
    {
     "data": {
      "text/plain": [
       "Chrome    1013436\n",
       "Safari     548474\n",
       "other      298132\n",
       "Name: device_browser, dtype: int64"
      ]
     },
     "execution_count": 56,
     "metadata": {},
     "output_type": "execute_result"
    }
   ],
   "source": [
    "sessions['device_browser'].value_counts()"
   ]
  },
  {
   "cell_type": "code",
   "execution_count": 41,
   "metadata": {},
   "outputs": [
    {
     "data": {
      "text/plain": [
       "Russia                 1800565\n",
       "United States            11784\n",
       "Ukraine                   9012\n",
       "Ireland                   4034\n",
       "Belarus                   3636\n",
       "                        ...   \n",
       "Zambia                       1\n",
       "Malawi                       1\n",
       "Réunion                      1\n",
       "Barbados                     1\n",
       "Congo - Brazzaville          1\n",
       "Name: geo_country, Length: 166, dtype: int64"
      ]
     },
     "execution_count": 41,
     "metadata": {},
     "output_type": "execute_result"
    }
   ],
   "source": [
    "# Россия - 1, остальные - 0\n",
    "sessions['geo_country'].value_counts()"
   ]
  },
  {
   "cell_type": "code",
   "execution_count": 57,
   "metadata": {},
   "outputs": [],
   "source": [
    "sessions['geo_country'] = sessions['geo_country'].apply(lambda x: x if x == 'Russia' else 'other')"
   ]
  },
  {
   "cell_type": "code",
   "execution_count": 42,
   "metadata": {},
   "outputs": [
    {
     "data": {
      "text/plain": [
       "Moscow              805329\n",
       "Saint Petersburg    296788\n",
       "(not set)            78172\n",
       "Yekaterinburg        35788\n",
       "Krasnodar            32243\n",
       "                     ...  \n",
       "Sherbrooke               1\n",
       "Albion                   1\n",
       "Bornheim                 1\n",
       "Huntley                  1\n",
       "Sommerda                 1\n",
       "Name: geo_city, Length: 2548, dtype: int64"
      ]
     },
     "execution_count": 42,
     "metadata": {},
     "output_type": "execute_result"
    }
   ],
   "source": [
    "# Разделю на самые популярные и остальные\n",
    "sessions['geo_city'].value_counts()"
   ]
  },
  {
   "cell_type": "code",
   "execution_count": 58,
   "metadata": {},
   "outputs": [],
   "source": [
    "cities = ['Moscow', 'Saint Petersburg', 'Yekaterinburg', 'Krasnodar']\n",
    "sessions['geo_city'] = sessions['geo_city'].apply(lambda x: x if x in cities else 'other')"
   ]
  },
  {
   "cell_type": "code",
   "execution_count": 43,
   "metadata": {},
   "outputs": [
    {
     "data": {
      "text/plain": [
       "1      1376349\n",
       "2       235656\n",
       "3        81068\n",
       "4        41666\n",
       "5        24271\n",
       "        ...   \n",
       "419          1\n",
       "420          1\n",
       "421          1\n",
       "422          1\n",
       "564          1\n",
       "Name: visit_number, Length: 537, dtype: int64"
      ]
     },
     "execution_count": 43,
     "metadata": {},
     "output_type": "execute_result"
    }
   ],
   "source": [
    "sessions['visit_number'].value_counts()"
   ]
  },
  {
   "cell_type": "code",
   "execution_count": 47,
   "metadata": {},
   "outputs": [
    {
     "data": {
      "text/html": [
       "<div>\n",
       "<style scoped>\n",
       "    .dataframe tbody tr th:only-of-type {\n",
       "        vertical-align: middle;\n",
       "    }\n",
       "\n",
       "    .dataframe tbody tr th {\n",
       "        vertical-align: top;\n",
       "    }\n",
       "\n",
       "    .dataframe thead th {\n",
       "        text-align: right;\n",
       "    }\n",
       "</style>\n",
       "<table border=\"1\" class=\"dataframe\">\n",
       "  <thead>\n",
       "    <tr style=\"text-align: right;\">\n",
       "      <th></th>\n",
       "      <th>session_id</th>\n",
       "      <th>client_id</th>\n",
       "      <th>visit_date</th>\n",
       "      <th>visit_time</th>\n",
       "      <th>visit_number</th>\n",
       "      <th>utm_source</th>\n",
       "      <th>utm_medium</th>\n",
       "      <th>utm_campaign</th>\n",
       "      <th>utm_adcontent</th>\n",
       "      <th>device_category</th>\n",
       "      <th>device_brand</th>\n",
       "      <th>device_screen_resolution</th>\n",
       "      <th>device_browser</th>\n",
       "      <th>geo_country</th>\n",
       "      <th>geo_city</th>\n",
       "    </tr>\n",
       "  </thead>\n",
       "  <tbody>\n",
       "    <tr>\n",
       "      <th>1515733</th>\n",
       "      <td>7518333712042258254.1637829871.1637829871</td>\n",
       "      <td>1750498477.1629450062</td>\n",
       "      <td>2021-11-25</td>\n",
       "      <td>11:44:31</td>\n",
       "      <td>401</td>\n",
       "      <td>0</td>\n",
       "      <td>organic</td>\n",
       "      <td>LTuZkdKfxRGVceoWkVyg</td>\n",
       "      <td>JNHcPlZPxEMWDnRiyoBf</td>\n",
       "      <td>desktop</td>\n",
       "      <td>None</td>\n",
       "      <td>1792x1120</td>\n",
       "      <td>Chrome</td>\n",
       "      <td>Russia</td>\n",
       "      <td>Moscow</td>\n",
       "    </tr>\n",
       "    <tr>\n",
       "      <th>1515734</th>\n",
       "      <td>7518333712042258254.1637830016.1637830016</td>\n",
       "      <td>1750498477.1629450062</td>\n",
       "      <td>2021-11-25</td>\n",
       "      <td>11:46:56</td>\n",
       "      <td>402</td>\n",
       "      <td>0</td>\n",
       "      <td>cpc</td>\n",
       "      <td>NaN</td>\n",
       "      <td>NaN</td>\n",
       "      <td>desktop</td>\n",
       "      <td>None</td>\n",
       "      <td>1792x1120</td>\n",
       "      <td>Chrome</td>\n",
       "      <td>Russia</td>\n",
       "      <td>Moscow</td>\n",
       "    </tr>\n",
       "    <tr>\n",
       "      <th>1515735</th>\n",
       "      <td>7518333712042258254.1637851276.1637851276</td>\n",
       "      <td>1750498477.1629450062</td>\n",
       "      <td>2021-11-25</td>\n",
       "      <td>17:41:16</td>\n",
       "      <td>405</td>\n",
       "      <td>0</td>\n",
       "      <td>cpc</td>\n",
       "      <td>XHNUiSKKGTEpSAlaVMFQ</td>\n",
       "      <td>JNHcPlZPxEMWDnRiyoBf</td>\n",
       "      <td>desktop</td>\n",
       "      <td>None</td>\n",
       "      <td>1792x1120</td>\n",
       "      <td>Chrome</td>\n",
       "      <td>Russia</td>\n",
       "      <td>Korolyov</td>\n",
       "    </tr>\n",
       "    <tr>\n",
       "      <th>1515736</th>\n",
       "      <td>7518333712042258254.1637851287.1637851287</td>\n",
       "      <td>1750498477.1629450062</td>\n",
       "      <td>2021-11-25</td>\n",
       "      <td>17:41:27</td>\n",
       "      <td>406</td>\n",
       "      <td>0</td>\n",
       "      <td>cpc</td>\n",
       "      <td>NaN</td>\n",
       "      <td>NaN</td>\n",
       "      <td>desktop</td>\n",
       "      <td>None</td>\n",
       "      <td>1792x1120</td>\n",
       "      <td>Chrome</td>\n",
       "      <td>Russia</td>\n",
       "      <td>Korolyov</td>\n",
       "    </tr>\n",
       "    <tr>\n",
       "      <th>1515737</th>\n",
       "      <td>7518333712042258254.1637853267.1637853267</td>\n",
       "      <td>1750498477.1629450062</td>\n",
       "      <td>2021-11-25</td>\n",
       "      <td>18:14:27</td>\n",
       "      <td>408</td>\n",
       "      <td>0</td>\n",
       "      <td>cpc</td>\n",
       "      <td>XHNUiSKKGTEpSAlaVMFQ</td>\n",
       "      <td>JNHcPlZPxEMWDnRiyoBf</td>\n",
       "      <td>desktop</td>\n",
       "      <td>None</td>\n",
       "      <td>1920x1080</td>\n",
       "      <td>Chrome</td>\n",
       "      <td>Russia</td>\n",
       "      <td>Moscow</td>\n",
       "    </tr>\n",
       "    <tr>\n",
       "      <th>...</th>\n",
       "      <td>...</td>\n",
       "      <td>...</td>\n",
       "      <td>...</td>\n",
       "      <td>...</td>\n",
       "      <td>...</td>\n",
       "      <td>...</td>\n",
       "      <td>...</td>\n",
       "      <td>...</td>\n",
       "      <td>...</td>\n",
       "      <td>...</td>\n",
       "      <td>...</td>\n",
       "      <td>...</td>\n",
       "      <td>...</td>\n",
       "      <td>...</td>\n",
       "      <td>...</td>\n",
       "    </tr>\n",
       "    <tr>\n",
       "      <th>1515874</th>\n",
       "      <td>7518333712042258254.1640250093.1640250093</td>\n",
       "      <td>1750498477.1629450062</td>\n",
       "      <td>2021-12-23</td>\n",
       "      <td>12:01:33</td>\n",
       "      <td>560</td>\n",
       "      <td>0</td>\n",
       "      <td>cpc</td>\n",
       "      <td>NaN</td>\n",
       "      <td>NaN</td>\n",
       "      <td>desktop</td>\n",
       "      <td>None</td>\n",
       "      <td>1792x1120</td>\n",
       "      <td>Chrome</td>\n",
       "      <td>Russia</td>\n",
       "      <td>Moscow</td>\n",
       "    </tr>\n",
       "    <tr>\n",
       "      <th>1515875</th>\n",
       "      <td>7518333712042258254.1640258901.1640258901</td>\n",
       "      <td>1750498477.1629450062</td>\n",
       "      <td>2021-12-23</td>\n",
       "      <td>14:28:21</td>\n",
       "      <td>561</td>\n",
       "      <td>0</td>\n",
       "      <td>cpc</td>\n",
       "      <td>NaN</td>\n",
       "      <td>NaN</td>\n",
       "      <td>desktop</td>\n",
       "      <td>None</td>\n",
       "      <td>1792x1120</td>\n",
       "      <td>Chrome</td>\n",
       "      <td>Russia</td>\n",
       "      <td>Moscow</td>\n",
       "    </tr>\n",
       "    <tr>\n",
       "      <th>1515876</th>\n",
       "      <td>7518333712042258254.1640262365.1640262365</td>\n",
       "      <td>1750498477.1629450062</td>\n",
       "      <td>2021-12-23</td>\n",
       "      <td>15:26:05</td>\n",
       "      <td>562</td>\n",
       "      <td>0</td>\n",
       "      <td>cpc</td>\n",
       "      <td>NaN</td>\n",
       "      <td>NaN</td>\n",
       "      <td>desktop</td>\n",
       "      <td>None</td>\n",
       "      <td>1792x1120</td>\n",
       "      <td>Chrome</td>\n",
       "      <td>Russia</td>\n",
       "      <td>Moscow</td>\n",
       "    </tr>\n",
       "    <tr>\n",
       "      <th>1515877</th>\n",
       "      <td>7518333712042258254.1640271352.1640271352</td>\n",
       "      <td>1750498477.1629450062</td>\n",
       "      <td>2021-12-23</td>\n",
       "      <td>17:55:52</td>\n",
       "      <td>563</td>\n",
       "      <td>0</td>\n",
       "      <td>cpc</td>\n",
       "      <td>NaN</td>\n",
       "      <td>NaN</td>\n",
       "      <td>desktop</td>\n",
       "      <td>None</td>\n",
       "      <td>1792x1120</td>\n",
       "      <td>Chrome</td>\n",
       "      <td>Russia</td>\n",
       "      <td>Moscow</td>\n",
       "    </tr>\n",
       "    <tr>\n",
       "      <th>1515878</th>\n",
       "      <td>7518333712042258254.1640273759.1640273759</td>\n",
       "      <td>1750498477.1629450062</td>\n",
       "      <td>2021-12-23</td>\n",
       "      <td>18:35:59</td>\n",
       "      <td>564</td>\n",
       "      <td>0</td>\n",
       "      <td>cpc</td>\n",
       "      <td>XHNUiSKKGTEpSAlaVMFQ</td>\n",
       "      <td>JNHcPlZPxEMWDnRiyoBf</td>\n",
       "      <td>desktop</td>\n",
       "      <td>None</td>\n",
       "      <td>1920x1080</td>\n",
       "      <td>Chrome</td>\n",
       "      <td>Russia</td>\n",
       "      <td>Moscow</td>\n",
       "    </tr>\n",
       "  </tbody>\n",
       "</table>\n",
       "<p>146 rows × 15 columns</p>\n",
       "</div>"
      ],
      "text/plain": [
       "                                        session_id              client_id  \\\n",
       "1515733  7518333712042258254.1637829871.1637829871  1750498477.1629450062   \n",
       "1515734  7518333712042258254.1637830016.1637830016  1750498477.1629450062   \n",
       "1515735  7518333712042258254.1637851276.1637851276  1750498477.1629450062   \n",
       "1515736  7518333712042258254.1637851287.1637851287  1750498477.1629450062   \n",
       "1515737  7518333712042258254.1637853267.1637853267  1750498477.1629450062   \n",
       "...                                            ...                    ...   \n",
       "1515874  7518333712042258254.1640250093.1640250093  1750498477.1629450062   \n",
       "1515875  7518333712042258254.1640258901.1640258901  1750498477.1629450062   \n",
       "1515876  7518333712042258254.1640262365.1640262365  1750498477.1629450062   \n",
       "1515877  7518333712042258254.1640271352.1640271352  1750498477.1629450062   \n",
       "1515878  7518333712042258254.1640273759.1640273759  1750498477.1629450062   \n",
       "\n",
       "         visit_date visit_time  visit_number  utm_source utm_medium  \\\n",
       "1515733  2021-11-25   11:44:31           401           0    organic   \n",
       "1515734  2021-11-25   11:46:56           402           0        cpc   \n",
       "1515735  2021-11-25   17:41:16           405           0        cpc   \n",
       "1515736  2021-11-25   17:41:27           406           0        cpc   \n",
       "1515737  2021-11-25   18:14:27           408           0        cpc   \n",
       "...             ...        ...           ...         ...        ...   \n",
       "1515874  2021-12-23   12:01:33           560           0        cpc   \n",
       "1515875  2021-12-23   14:28:21           561           0        cpc   \n",
       "1515876  2021-12-23   15:26:05           562           0        cpc   \n",
       "1515877  2021-12-23   17:55:52           563           0        cpc   \n",
       "1515878  2021-12-23   18:35:59           564           0        cpc   \n",
       "\n",
       "                 utm_campaign         utm_adcontent device_category  \\\n",
       "1515733  LTuZkdKfxRGVceoWkVyg  JNHcPlZPxEMWDnRiyoBf         desktop   \n",
       "1515734                   NaN                   NaN         desktop   \n",
       "1515735  XHNUiSKKGTEpSAlaVMFQ  JNHcPlZPxEMWDnRiyoBf         desktop   \n",
       "1515736                   NaN                   NaN         desktop   \n",
       "1515737  XHNUiSKKGTEpSAlaVMFQ  JNHcPlZPxEMWDnRiyoBf         desktop   \n",
       "...                       ...                   ...             ...   \n",
       "1515874                   NaN                   NaN         desktop   \n",
       "1515875                   NaN                   NaN         desktop   \n",
       "1515876                   NaN                   NaN         desktop   \n",
       "1515877                   NaN                   NaN         desktop   \n",
       "1515878  XHNUiSKKGTEpSAlaVMFQ  JNHcPlZPxEMWDnRiyoBf         desktop   \n",
       "\n",
       "        device_brand device_screen_resolution device_browser geo_country  \\\n",
       "1515733         None                1792x1120         Chrome      Russia   \n",
       "1515734         None                1792x1120         Chrome      Russia   \n",
       "1515735         None                1792x1120         Chrome      Russia   \n",
       "1515736         None                1792x1120         Chrome      Russia   \n",
       "1515737         None                1920x1080         Chrome      Russia   \n",
       "...              ...                      ...            ...         ...   \n",
       "1515874         None                1792x1120         Chrome      Russia   \n",
       "1515875         None                1792x1120         Chrome      Russia   \n",
       "1515876         None                1792x1120         Chrome      Russia   \n",
       "1515877         None                1792x1120         Chrome      Russia   \n",
       "1515878         None                1920x1080         Chrome      Russia   \n",
       "\n",
       "         geo_city  \n",
       "1515733    Moscow  \n",
       "1515734    Moscow  \n",
       "1515735  Korolyov  \n",
       "1515736  Korolyov  \n",
       "1515737    Moscow  \n",
       "...           ...  \n",
       "1515874    Moscow  \n",
       "1515875    Moscow  \n",
       "1515876    Moscow  \n",
       "1515877    Moscow  \n",
       "1515878    Moscow  \n",
       "\n",
       "[146 rows x 15 columns]"
      ]
     },
     "execution_count": 47,
     "metadata": {},
     "output_type": "execute_result"
    }
   ],
   "source": [
    "sessions[sessions['visit_number'] > 400]"
   ]
  },
  {
   "cell_type": "code",
   "execution_count": 71,
   "metadata": {},
   "outputs": [],
   "source": [
    "# Дату визита разделю на месяц, так как все данные за один год.\n",
    "sessions['month'] = sessions['visit_date'].apply(lambda x: x.month)"
   ]
  },
  {
   "cell_type": "code",
   "execution_count": 76,
   "metadata": {},
   "outputs": [
    {
     "data": {
      "text/plain": [
       "12    399102\n",
       "11    297769\n",
       "10    281622\n",
       "9     257478\n",
       "7     185244\n",
       "6     166470\n",
       "8     164155\n",
       "5     108202\n",
       "Name: month, dtype: int64"
      ]
     },
     "execution_count": 76,
     "metadata": {},
     "output_type": "execute_result"
    }
   ],
   "source": [
    "sessions['month'].value_counts()"
   ]
  },
  {
   "cell_type": "code",
   "execution_count": 77,
   "metadata": {},
   "outputs": [],
   "source": [
    "sessions = sessions.drop(['visit_date'], axis=1)"
   ]
  },
  {
   "cell_type": "code",
   "execution_count": 78,
   "metadata": {},
   "outputs": [],
   "source": [
    "#sessions = sessions.drop(['year', 'visit_time'], axis=1)"
   ]
  },
  {
   "cell_type": "code",
   "execution_count": 79,
   "metadata": {},
   "outputs": [
    {
     "data": {
      "text/html": [
       "<div>\n",
       "<style scoped>\n",
       "    .dataframe tbody tr th:only-of-type {\n",
       "        vertical-align: middle;\n",
       "    }\n",
       "\n",
       "    .dataframe tbody tr th {\n",
       "        vertical-align: top;\n",
       "    }\n",
       "\n",
       "    .dataframe thead th {\n",
       "        text-align: right;\n",
       "    }\n",
       "</style>\n",
       "<table border=\"1\" class=\"dataframe\">\n",
       "  <thead>\n",
       "    <tr style=\"text-align: right;\">\n",
       "      <th></th>\n",
       "      <th>session_id</th>\n",
       "      <th>client_id</th>\n",
       "      <th>visit_number</th>\n",
       "      <th>utm_source</th>\n",
       "      <th>utm_medium</th>\n",
       "      <th>device_category</th>\n",
       "      <th>device_brand</th>\n",
       "      <th>device_screen_resolution</th>\n",
       "      <th>device_browser</th>\n",
       "      <th>geo_country</th>\n",
       "      <th>geo_city</th>\n",
       "      <th>month</th>\n",
       "    </tr>\n",
       "  </thead>\n",
       "  <tbody>\n",
       "    <tr>\n",
       "      <th>0</th>\n",
       "      <td>9055434745589932991.1637753792.1637753792</td>\n",
       "      <td>2108382700.1637753791</td>\n",
       "      <td>1</td>\n",
       "      <td>0</td>\n",
       "      <td>banner</td>\n",
       "      <td>mobile</td>\n",
       "      <td>Huawei</td>\n",
       "      <td>360x720</td>\n",
       "      <td>Chrome</td>\n",
       "      <td>Russia</td>\n",
       "      <td>other</td>\n",
       "      <td>11</td>\n",
       "    </tr>\n",
       "    <tr>\n",
       "      <th>1</th>\n",
       "      <td>905544597018549464.1636867290.1636867290</td>\n",
       "      <td>210838531.1636867288</td>\n",
       "      <td>1</td>\n",
       "      <td>1</td>\n",
       "      <td>cpm</td>\n",
       "      <td>mobile</td>\n",
       "      <td>Samsung</td>\n",
       "      <td>385x854</td>\n",
       "      <td>other</td>\n",
       "      <td>Russia</td>\n",
       "      <td>Moscow</td>\n",
       "      <td>11</td>\n",
       "    </tr>\n",
       "    <tr>\n",
       "      <th>2</th>\n",
       "      <td>9055446045651783499.1640648526.1640648526</td>\n",
       "      <td>2108385331.1640648523</td>\n",
       "      <td>1</td>\n",
       "      <td>0</td>\n",
       "      <td>banner</td>\n",
       "      <td>mobile</td>\n",
       "      <td>Huawei</td>\n",
       "      <td>360x720</td>\n",
       "      <td>Chrome</td>\n",
       "      <td>Russia</td>\n",
       "      <td>other</td>\n",
       "      <td>12</td>\n",
       "    </tr>\n",
       "    <tr>\n",
       "      <th>3</th>\n",
       "      <td>9055447046360770272.1622255328.1622255328</td>\n",
       "      <td>2108385564.1622255328</td>\n",
       "      <td>1</td>\n",
       "      <td>0</td>\n",
       "      <td>cpc</td>\n",
       "      <td>mobile</td>\n",
       "      <td>Xiaomi</td>\n",
       "      <td>393x786</td>\n",
       "      <td>Chrome</td>\n",
       "      <td>Russia</td>\n",
       "      <td>Moscow</td>\n",
       "      <td>5</td>\n",
       "    </tr>\n",
       "    <tr>\n",
       "      <th>4</th>\n",
       "      <td>9055447046360770272.1622255345.1622255345</td>\n",
       "      <td>2108385564.1622255328</td>\n",
       "      <td>2</td>\n",
       "      <td>0</td>\n",
       "      <td>cpc</td>\n",
       "      <td>mobile</td>\n",
       "      <td>Xiaomi</td>\n",
       "      <td>393x786</td>\n",
       "      <td>Chrome</td>\n",
       "      <td>Russia</td>\n",
       "      <td>Moscow</td>\n",
       "      <td>5</td>\n",
       "    </tr>\n",
       "  </tbody>\n",
       "</table>\n",
       "</div>"
      ],
      "text/plain": [
       "                                  session_id              client_id  \\\n",
       "0  9055434745589932991.1637753792.1637753792  2108382700.1637753791   \n",
       "1   905544597018549464.1636867290.1636867290   210838531.1636867288   \n",
       "2  9055446045651783499.1640648526.1640648526  2108385331.1640648523   \n",
       "3  9055447046360770272.1622255328.1622255328  2108385564.1622255328   \n",
       "4  9055447046360770272.1622255345.1622255345  2108385564.1622255328   \n",
       "\n",
       "   visit_number  utm_source utm_medium device_category device_brand  \\\n",
       "0             1           0     banner          mobile       Huawei   \n",
       "1             1           1        cpm          mobile      Samsung   \n",
       "2             1           0     banner          mobile       Huawei   \n",
       "3             1           0        cpc          mobile       Xiaomi   \n",
       "4             2           0        cpc          mobile       Xiaomi   \n",
       "\n",
       "  device_screen_resolution device_browser geo_country geo_city  month  \n",
       "0                  360x720         Chrome      Russia    other     11  \n",
       "1                  385x854          other      Russia   Moscow     11  \n",
       "2                  360x720         Chrome      Russia    other     12  \n",
       "3                  393x786         Chrome      Russia   Moscow      5  \n",
       "4                  393x786         Chrome      Russia   Moscow      5  "
      ]
     },
     "execution_count": 79,
     "metadata": {},
     "output_type": "execute_result"
    }
   ],
   "source": [
    "sessions.head()"
   ]
  },
  {
   "cell_type": "code",
   "execution_count": null,
   "metadata": {},
   "outputs": [],
   "source": []
  },
  {
   "cell_type": "code",
   "execution_count": 82,
   "metadata": {
    "id": "LH6Nvt3r1NiR"
   },
   "outputs": [],
   "source": [
    "with open('data/ga_hits-001.pkl', 'rb') as file:\n",
    "    hits = pickle.load(file)"
   ]
  },
  {
   "cell_type": "code",
   "execution_count": 6,
   "metadata": {},
   "outputs": [
    {
     "data": {
      "text/html": [
       "<div>\n",
       "<style scoped>\n",
       "    .dataframe tbody tr th:only-of-type {\n",
       "        vertical-align: middle;\n",
       "    }\n",
       "\n",
       "    .dataframe tbody tr th {\n",
       "        vertical-align: top;\n",
       "    }\n",
       "\n",
       "    .dataframe thead th {\n",
       "        text-align: right;\n",
       "    }\n",
       "</style>\n",
       "<table border=\"1\" class=\"dataframe\">\n",
       "  <thead>\n",
       "    <tr style=\"text-align: right;\">\n",
       "      <th></th>\n",
       "      <th>session_id</th>\n",
       "      <th>hit_date</th>\n",
       "      <th>hit_time</th>\n",
       "      <th>hit_number</th>\n",
       "      <th>hit_type</th>\n",
       "      <th>hit_referer</th>\n",
       "      <th>hit_page_path</th>\n",
       "      <th>event_category</th>\n",
       "      <th>event_action</th>\n",
       "      <th>event_label</th>\n",
       "      <th>event_value</th>\n",
       "    </tr>\n",
       "  </thead>\n",
       "  <tbody>\n",
       "    <tr>\n",
       "      <th>0</th>\n",
       "      <td>5639623078712724064.1640254056.1640254056</td>\n",
       "      <td>2021-12-23</td>\n",
       "      <td>597864.0</td>\n",
       "      <td>30</td>\n",
       "      <td>event</td>\n",
       "      <td>NaN</td>\n",
       "      <td>sberauto.com/cars?utm_source_initial=google&amp;ut...</td>\n",
       "      <td>quiz</td>\n",
       "      <td>quiz_show</td>\n",
       "      <td>NaN</td>\n",
       "      <td>NaN</td>\n",
       "    </tr>\n",
       "    <tr>\n",
       "      <th>1</th>\n",
       "      <td>7750352294969115059.1640271109.1640271109</td>\n",
       "      <td>2021-12-23</td>\n",
       "      <td>597331.0</td>\n",
       "      <td>41</td>\n",
       "      <td>event</td>\n",
       "      <td>NaN</td>\n",
       "      <td>sberauto.com/cars/fiat?city=1&amp;city=18&amp;rental_c...</td>\n",
       "      <td>quiz</td>\n",
       "      <td>quiz_show</td>\n",
       "      <td>NaN</td>\n",
       "      <td>NaN</td>\n",
       "    </tr>\n",
       "    <tr>\n",
       "      <th>2</th>\n",
       "      <td>885342191847998240.1640235807.1640235807</td>\n",
       "      <td>2021-12-23</td>\n",
       "      <td>796252.0</td>\n",
       "      <td>49</td>\n",
       "      <td>event</td>\n",
       "      <td>NaN</td>\n",
       "      <td>sberauto.com/cars/all/volkswagen/polo/e994838f...</td>\n",
       "      <td>quiz</td>\n",
       "      <td>quiz_show</td>\n",
       "      <td>NaN</td>\n",
       "      <td>NaN</td>\n",
       "    </tr>\n",
       "    <tr>\n",
       "      <th>3</th>\n",
       "      <td>142526202120934167.1640211014.1640211014</td>\n",
       "      <td>2021-12-23</td>\n",
       "      <td>934292.0</td>\n",
       "      <td>46</td>\n",
       "      <td>event</td>\n",
       "      <td>NaN</td>\n",
       "      <td>sberauto.com/cars?utm_source_initial=yandex&amp;ut...</td>\n",
       "      <td>quiz</td>\n",
       "      <td>quiz_show</td>\n",
       "      <td>NaN</td>\n",
       "      <td>NaN</td>\n",
       "    </tr>\n",
       "    <tr>\n",
       "      <th>4</th>\n",
       "      <td>3450086108837475701.1640265078.1640265078</td>\n",
       "      <td>2021-12-23</td>\n",
       "      <td>768741.0</td>\n",
       "      <td>79</td>\n",
       "      <td>event</td>\n",
       "      <td>NaN</td>\n",
       "      <td>sberauto.com/cars/all/mercedes-benz/cla-klasse...</td>\n",
       "      <td>quiz</td>\n",
       "      <td>quiz_show</td>\n",
       "      <td>NaN</td>\n",
       "      <td>NaN</td>\n",
       "    </tr>\n",
       "  </tbody>\n",
       "</table>\n",
       "</div>"
      ],
      "text/plain": [
       "                                  session_id    hit_date  hit_time  \\\n",
       "0  5639623078712724064.1640254056.1640254056  2021-12-23  597864.0   \n",
       "1  7750352294969115059.1640271109.1640271109  2021-12-23  597331.0   \n",
       "2   885342191847998240.1640235807.1640235807  2021-12-23  796252.0   \n",
       "3   142526202120934167.1640211014.1640211014  2021-12-23  934292.0   \n",
       "4  3450086108837475701.1640265078.1640265078  2021-12-23  768741.0   \n",
       "\n",
       "   hit_number hit_type hit_referer  \\\n",
       "0          30    event         NaN   \n",
       "1          41    event         NaN   \n",
       "2          49    event         NaN   \n",
       "3          46    event         NaN   \n",
       "4          79    event         NaN   \n",
       "\n",
       "                                       hit_page_path event_category  \\\n",
       "0  sberauto.com/cars?utm_source_initial=google&ut...           quiz   \n",
       "1  sberauto.com/cars/fiat?city=1&city=18&rental_c...           quiz   \n",
       "2  sberauto.com/cars/all/volkswagen/polo/e994838f...           quiz   \n",
       "3  sberauto.com/cars?utm_source_initial=yandex&ut...           quiz   \n",
       "4  sberauto.com/cars/all/mercedes-benz/cla-klasse...           quiz   \n",
       "\n",
       "  event_action event_label  event_value  \n",
       "0    quiz_show         NaN          NaN  \n",
       "1    quiz_show         NaN          NaN  \n",
       "2    quiz_show         NaN          NaN  \n",
       "3    quiz_show         NaN          NaN  \n",
       "4    quiz_show         NaN          NaN  "
      ]
     },
     "execution_count": 6,
     "metadata": {},
     "output_type": "execute_result"
    }
   ],
   "source": [
    "hits_2 = pd.read_csv('data/ga_hits-001.csv')\n",
    "hits_2.head()"
   ]
  },
  {
   "cell_type": "code",
   "execution_count": 7,
   "metadata": {},
   "outputs": [
    {
     "data": {
      "text/plain": [
       "0    0\n",
       "1    0\n",
       "2    0\n",
       "3    0\n",
       "4    0\n",
       "Name: event_action, dtype: int64"
      ]
     },
     "execution_count": 7,
     "metadata": {},
     "output_type": "execute_result"
    }
   ],
   "source": [
    "goal = ['sub_car_claim_click', 'sub_car_claim_submit_click', 'sub_open_dialog_click',\n",
    "    'sub_custom_question_submit_click',\n",
    "    'sub_call_number_click', 'sub_callback_submit_click', 'sub_submit_success', 'sub_car_request_submit_click']\n",
    "hits_2['event_action'] = hits_2['event_action'].apply(lambda x: 1 if x in goal else 0)\n",
    "hits_2['event_action'].head()"
   ]
  },
  {
   "cell_type": "code",
   "execution_count": 83,
   "metadata": {
    "id": "J7OYczhs1neW"
   },
   "outputs": [
    {
     "data": {
      "text/html": [
       "<div>\n",
       "<style scoped>\n",
       "    .dataframe tbody tr th:only-of-type {\n",
       "        vertical-align: middle;\n",
       "    }\n",
       "\n",
       "    .dataframe tbody tr th {\n",
       "        vertical-align: top;\n",
       "    }\n",
       "\n",
       "    .dataframe thead th {\n",
       "        text-align: right;\n",
       "    }\n",
       "</style>\n",
       "<table border=\"1\" class=\"dataframe\">\n",
       "  <thead>\n",
       "    <tr style=\"text-align: right;\">\n",
       "      <th></th>\n",
       "      <th>session_id</th>\n",
       "      <th>hit_date</th>\n",
       "      <th>hit_time</th>\n",
       "      <th>hit_number</th>\n",
       "      <th>hit_type</th>\n",
       "      <th>hit_referer</th>\n",
       "      <th>hit_page_path</th>\n",
       "      <th>event_category</th>\n",
       "      <th>event_action</th>\n",
       "      <th>event_label</th>\n",
       "      <th>event_value</th>\n",
       "    </tr>\n",
       "  </thead>\n",
       "  <tbody>\n",
       "    <tr>\n",
       "      <th>0</th>\n",
       "      <td>5639623078712724064.1640254056.1640254056</td>\n",
       "      <td>2021-12-23</td>\n",
       "      <td>597864.0</td>\n",
       "      <td>30</td>\n",
       "      <td>event</td>\n",
       "      <td>NaN</td>\n",
       "      <td>sberauto.com/cars?utm_source_initial=google&amp;ut...</td>\n",
       "      <td>quiz</td>\n",
       "      <td>quiz_show</td>\n",
       "      <td>NaN</td>\n",
       "      <td>None</td>\n",
       "    </tr>\n",
       "    <tr>\n",
       "      <th>1</th>\n",
       "      <td>7750352294969115059.1640271109.1640271109</td>\n",
       "      <td>2021-12-23</td>\n",
       "      <td>597331.0</td>\n",
       "      <td>41</td>\n",
       "      <td>event</td>\n",
       "      <td>NaN</td>\n",
       "      <td>sberauto.com/cars/fiat?city=1&amp;city=18&amp;rental_c...</td>\n",
       "      <td>quiz</td>\n",
       "      <td>quiz_show</td>\n",
       "      <td>NaN</td>\n",
       "      <td>None</td>\n",
       "    </tr>\n",
       "    <tr>\n",
       "      <th>2</th>\n",
       "      <td>885342191847998240.1640235807.1640235807</td>\n",
       "      <td>2021-12-23</td>\n",
       "      <td>796252.0</td>\n",
       "      <td>49</td>\n",
       "      <td>event</td>\n",
       "      <td>NaN</td>\n",
       "      <td>sberauto.com/cars/all/volkswagen/polo/e994838f...</td>\n",
       "      <td>quiz</td>\n",
       "      <td>quiz_show</td>\n",
       "      <td>NaN</td>\n",
       "      <td>None</td>\n",
       "    </tr>\n",
       "    <tr>\n",
       "      <th>3</th>\n",
       "      <td>142526202120934167.1640211014.1640211014</td>\n",
       "      <td>2021-12-23</td>\n",
       "      <td>934292.0</td>\n",
       "      <td>46</td>\n",
       "      <td>event</td>\n",
       "      <td>NaN</td>\n",
       "      <td>sberauto.com/cars?utm_source_initial=yandex&amp;ut...</td>\n",
       "      <td>quiz</td>\n",
       "      <td>quiz_show</td>\n",
       "      <td>NaN</td>\n",
       "      <td>None</td>\n",
       "    </tr>\n",
       "    <tr>\n",
       "      <th>4</th>\n",
       "      <td>3450086108837475701.1640265078.1640265078</td>\n",
       "      <td>2021-12-23</td>\n",
       "      <td>768741.0</td>\n",
       "      <td>79</td>\n",
       "      <td>event</td>\n",
       "      <td>NaN</td>\n",
       "      <td>sberauto.com/cars/all/mercedes-benz/cla-klasse...</td>\n",
       "      <td>quiz</td>\n",
       "      <td>quiz_show</td>\n",
       "      <td>NaN</td>\n",
       "      <td>None</td>\n",
       "    </tr>\n",
       "  </tbody>\n",
       "</table>\n",
       "</div>"
      ],
      "text/plain": [
       "                                  session_id    hit_date  hit_time  \\\n",
       "0  5639623078712724064.1640254056.1640254056  2021-12-23  597864.0   \n",
       "1  7750352294969115059.1640271109.1640271109  2021-12-23  597331.0   \n",
       "2   885342191847998240.1640235807.1640235807  2021-12-23  796252.0   \n",
       "3   142526202120934167.1640211014.1640211014  2021-12-23  934292.0   \n",
       "4  3450086108837475701.1640265078.1640265078  2021-12-23  768741.0   \n",
       "\n",
       "   hit_number hit_type hit_referer  \\\n",
       "0          30    event         NaN   \n",
       "1          41    event         NaN   \n",
       "2          49    event         NaN   \n",
       "3          46    event         NaN   \n",
       "4          79    event         NaN   \n",
       "\n",
       "                                       hit_page_path event_category  \\\n",
       "0  sberauto.com/cars?utm_source_initial=google&ut...           quiz   \n",
       "1  sberauto.com/cars/fiat?city=1&city=18&rental_c...           quiz   \n",
       "2  sberauto.com/cars/all/volkswagen/polo/e994838f...           quiz   \n",
       "3  sberauto.com/cars?utm_source_initial=yandex&ut...           quiz   \n",
       "4  sberauto.com/cars/all/mercedes-benz/cla-klasse...           quiz   \n",
       "\n",
       "  event_action event_label event_value  \n",
       "0    quiz_show         NaN        None  \n",
       "1    quiz_show         NaN        None  \n",
       "2    quiz_show         NaN        None  \n",
       "3    quiz_show         NaN        None  \n",
       "4    quiz_show         NaN        None  "
      ]
     },
     "execution_count": 83,
     "metadata": {},
     "output_type": "execute_result"
    }
   ],
   "source": [
    "hits.head()"
   ]
  },
  {
   "cell_type": "code",
   "execution_count": 84,
   "metadata": {
    "id": "NdWZWZiz1qbo"
   },
   "outputs": [
    {
     "name": "stdout",
     "output_type": "stream",
     "text": [
      "<class 'pandas.core.frame.DataFrame'>\n",
      "RangeIndex: 15726470 entries, 0 to 15726469\n",
      "Data columns (total 11 columns):\n",
      " #   Column          Dtype  \n",
      "---  ------          -----  \n",
      " 0   session_id      object \n",
      " 1   hit_date        object \n",
      " 2   hit_time        float64\n",
      " 3   hit_number      int64  \n",
      " 4   hit_type        object \n",
      " 5   hit_referer     object \n",
      " 6   hit_page_path   object \n",
      " 7   event_category  object \n",
      " 8   event_action    object \n",
      " 9   event_label     object \n",
      " 10  event_value     object \n",
      "dtypes: float64(1), int64(1), object(9)\n",
      "memory usage: 1.3+ GB\n"
     ]
    }
   ],
   "source": [
    "hits.info()"
   ]
  },
  {
   "cell_type": "code",
   "execution_count": 85,
   "metadata": {
    "id": "LbWaqVDD1qe-"
   },
   "outputs": [
    {
     "data": {
      "text/plain": [
       "(15726470, 11)"
      ]
     },
     "execution_count": 85,
     "metadata": {},
     "output_type": "execute_result"
    }
   ],
   "source": [
    "hits.shape"
   ]
  },
  {
   "cell_type": "code",
   "execution_count": 86,
   "metadata": {
    "id": "Veo8443g1qis"
   },
   "outputs": [
    {
     "name": "stdout",
     "output_type": "stream",
     "text": [
      "session_id, 0, % isna 0.0 %\n",
      "hit_date, 0, % isna 0.0 %\n",
      "hit_time, 9160322, % isna 58.25 %\n",
      "hit_number, 0, % isna 0.0 %\n",
      "hit_type, 0, % isna 0.0 %\n",
      "hit_referer, 6274804, % isna 39.9 %\n",
      "hit_page_path, 0, % isna 0.0 %\n",
      "event_category, 0, % isna 0.0 %\n",
      "event_action, 0, % isna 0.0 %\n",
      "event_label, 3760184, % isna 23.91 %\n",
      "event_value, 15726470, % isna 100.0 %\n"
     ]
    }
   ],
   "source": [
    "cols = hits.columns.to_list()\n",
    "\n",
    "for col in cols:\n",
    "    print(f'{col}, {sum(hits[col].isna())}, % isna {round(100 * sum(hits[col].isna()) / hits.shape[0], 2)} %')"
   ]
  },
  {
   "cell_type": "code",
   "execution_count": 87,
   "metadata": {},
   "outputs": [
    {
     "data": {
      "text/plain": [
       "(15726470, 11)"
      ]
     },
     "execution_count": 87,
     "metadata": {},
     "output_type": "execute_result"
    }
   ],
   "source": [
    "#drop_duplicates\n",
    "hits.drop_duplicates()\n",
    "hits.shape"
   ]
  },
  {
   "cell_type": "code",
   "execution_count": 88,
   "metadata": {},
   "outputs": [
    {
     "data": {
      "text/plain": [
       "HbolMJUevblAbkHClEQa    8879187\n",
       "FwdMTcXzWAwhtsnMAbhS      91940\n",
       "sAGDBCdeVPmQPwkVEcIX      53565\n",
       "GQmOLxANuSeCxCanBpMl      35470\n",
       "ZeRnFrHdnMmnqraghdGJ      23016\n",
       "                         ...   \n",
       "VaOgrsicGpgIbzLNSDbc          1\n",
       "rSeuBRLEcgyWsXrSYQqh          1\n",
       "UNckxKWlzUxsKgvMBNdE          1\n",
       "YZNVwxZKSbzYIwrGrgdY          1\n",
       "tvGabHlPFDvTmIFiCKTL          1\n",
       "Name: hit_referer, Length: 37873, dtype: int64"
      ]
     },
     "execution_count": 88,
     "metadata": {},
     "output_type": "execute_result"
    }
   ],
   "source": [
    "hits['hit_referer'].value_counts()"
   ]
  },
  {
   "cell_type": "code",
   "execution_count": 89,
   "metadata": {},
   "outputs": [
    {
     "data": {
      "text/plain": [
       "37874"
      ]
     },
     "execution_count": 89,
     "metadata": {},
     "output_type": "execute_result"
    }
   ],
   "source": [
    "len(hits['hit_referer'].unique())"
   ]
  },
  {
   "cell_type": "code",
   "execution_count": 90,
   "metadata": {},
   "outputs": [
    {
     "data": {
      "text/plain": [
       "KclpemfoHstknWHFiLit    6505447\n",
       "hAHqGICPFQiPwtzubOzs    1284914\n",
       "OHfyUfDKdPgBdvelDlfG     626554\n",
       "pzAKUYdRKNEUXxxBFUPX     358915\n",
       "ghOrjqpgskpGHSFfBBsi     342500\n",
       "                         ...   \n",
       "iFTveknOEiHmdgIHHqBZ          1\n",
       "WKfoFxrMANSjHQMIhCZr          1\n",
       "RAJXTkPWctNbMZubUIng          1\n",
       "jRptuMMybqHerOxplPYo          1\n",
       "aNlmojNIfsJaXKZHCDiU          1\n",
       "Name: event_label, Length: 39825, dtype: int64"
      ]
     },
     "execution_count": 90,
     "metadata": {},
     "output_type": "execute_result"
    }
   ],
   "source": [
    "hits['event_label'].value_counts()"
   ]
  },
  {
   "cell_type": "code",
   "execution_count": 91,
   "metadata": {},
   "outputs": [
    {
     "data": {
      "text/plain": [
       "39826"
      ]
     },
     "execution_count": 91,
     "metadata": {},
     "output_type": "execute_result"
    }
   ],
   "source": [
    "len(hits['event_label'].unique())"
   ]
  },
  {
   "cell_type": "code",
   "execution_count": 92,
   "metadata": {},
   "outputs": [
    {
     "data": {
      "text/plain": [
       "(15726470, 7)"
      ]
     },
     "execution_count": 92,
     "metadata": {},
     "output_type": "execute_result"
    }
   ],
   "source": [
    "# del empty cols\n",
    "empty_cols_2 = ['hit_time', 'hit_referer', 'event_label', 'event_value']\n",
    "hits = hits.drop(empty_cols_2, axis=1)\n",
    "hits.shape"
   ]
  },
  {
   "cell_type": "code",
   "execution_count": 93,
   "metadata": {},
   "outputs": [
    {
     "data": {
      "text/html": [
       "<div>\n",
       "<style scoped>\n",
       "    .dataframe tbody tr th:only-of-type {\n",
       "        vertical-align: middle;\n",
       "    }\n",
       "\n",
       "    .dataframe tbody tr th {\n",
       "        vertical-align: top;\n",
       "    }\n",
       "\n",
       "    .dataframe thead th {\n",
       "        text-align: right;\n",
       "    }\n",
       "</style>\n",
       "<table border=\"1\" class=\"dataframe\">\n",
       "  <thead>\n",
       "    <tr style=\"text-align: right;\">\n",
       "      <th></th>\n",
       "      <th>session_id</th>\n",
       "      <th>hit_date</th>\n",
       "      <th>hit_number</th>\n",
       "      <th>hit_type</th>\n",
       "      <th>hit_page_path</th>\n",
       "      <th>event_category</th>\n",
       "      <th>event_action</th>\n",
       "    </tr>\n",
       "  </thead>\n",
       "  <tbody>\n",
       "    <tr>\n",
       "      <th>0</th>\n",
       "      <td>5639623078712724064.1640254056.1640254056</td>\n",
       "      <td>2021-12-23</td>\n",
       "      <td>30</td>\n",
       "      <td>event</td>\n",
       "      <td>sberauto.com/cars?utm_source_initial=google&amp;ut...</td>\n",
       "      <td>quiz</td>\n",
       "      <td>quiz_show</td>\n",
       "    </tr>\n",
       "    <tr>\n",
       "      <th>1</th>\n",
       "      <td>7750352294969115059.1640271109.1640271109</td>\n",
       "      <td>2021-12-23</td>\n",
       "      <td>41</td>\n",
       "      <td>event</td>\n",
       "      <td>sberauto.com/cars/fiat?city=1&amp;city=18&amp;rental_c...</td>\n",
       "      <td>quiz</td>\n",
       "      <td>quiz_show</td>\n",
       "    </tr>\n",
       "    <tr>\n",
       "      <th>2</th>\n",
       "      <td>885342191847998240.1640235807.1640235807</td>\n",
       "      <td>2021-12-23</td>\n",
       "      <td>49</td>\n",
       "      <td>event</td>\n",
       "      <td>sberauto.com/cars/all/volkswagen/polo/e994838f...</td>\n",
       "      <td>quiz</td>\n",
       "      <td>quiz_show</td>\n",
       "    </tr>\n",
       "    <tr>\n",
       "      <th>3</th>\n",
       "      <td>142526202120934167.1640211014.1640211014</td>\n",
       "      <td>2021-12-23</td>\n",
       "      <td>46</td>\n",
       "      <td>event</td>\n",
       "      <td>sberauto.com/cars?utm_source_initial=yandex&amp;ut...</td>\n",
       "      <td>quiz</td>\n",
       "      <td>quiz_show</td>\n",
       "    </tr>\n",
       "    <tr>\n",
       "      <th>4</th>\n",
       "      <td>3450086108837475701.1640265078.1640265078</td>\n",
       "      <td>2021-12-23</td>\n",
       "      <td>79</td>\n",
       "      <td>event</td>\n",
       "      <td>sberauto.com/cars/all/mercedes-benz/cla-klasse...</td>\n",
       "      <td>quiz</td>\n",
       "      <td>quiz_show</td>\n",
       "    </tr>\n",
       "  </tbody>\n",
       "</table>\n",
       "</div>"
      ],
      "text/plain": [
       "                                  session_id    hit_date  hit_number hit_type  \\\n",
       "0  5639623078712724064.1640254056.1640254056  2021-12-23          30    event   \n",
       "1  7750352294969115059.1640271109.1640271109  2021-12-23          41    event   \n",
       "2   885342191847998240.1640235807.1640235807  2021-12-23          49    event   \n",
       "3   142526202120934167.1640211014.1640211014  2021-12-23          46    event   \n",
       "4  3450086108837475701.1640265078.1640265078  2021-12-23          79    event   \n",
       "\n",
       "                                       hit_page_path event_category  \\\n",
       "0  sberauto.com/cars?utm_source_initial=google&ut...           quiz   \n",
       "1  sberauto.com/cars/fiat?city=1&city=18&rental_c...           quiz   \n",
       "2  sberauto.com/cars/all/volkswagen/polo/e994838f...           quiz   \n",
       "3  sberauto.com/cars?utm_source_initial=yandex&ut...           quiz   \n",
       "4  sberauto.com/cars/all/mercedes-benz/cla-klasse...           quiz   \n",
       "\n",
       "  event_action  \n",
       "0    quiz_show  \n",
       "1    quiz_show  \n",
       "2    quiz_show  \n",
       "3    quiz_show  \n",
       "4    quiz_show  "
      ]
     },
     "execution_count": 93,
     "metadata": {},
     "output_type": "execute_result"
    }
   ],
   "source": [
    "hits.head()"
   ]
  },
  {
   "cell_type": "code",
   "execution_count": 94,
   "metadata": {},
   "outputs": [],
   "source": [
    "goal = ['sub_car_claim_click', 'sub_car_claim_submit_click', 'sub_open_dialog_click', 'sub_custom_question_submit_click',\n",
    "        'sub_call_number_click', 'sub_callback_submit_click', 'sub_submit_success', 'sub_car_request_submit_click']\n",
    "\n",
    "hits['event_action'] = hits['event_action'].apply(lambda x: 1 if x in goal else 0)"
   ]
  },
  {
   "cell_type": "code",
   "execution_count": 98,
   "metadata": {},
   "outputs": [
    {
     "data": {
      "text/plain": [
       "0    15621562\n",
       "1      104908\n",
       "Name: event_action, dtype: int64"
      ]
     },
     "execution_count": 98,
     "metadata": {},
     "output_type": "execute_result"
    }
   ],
   "source": [
    "hits['event_action'].value_counts()"
   ]
  },
  {
   "cell_type": "code",
   "execution_count": 96,
   "metadata": {},
   "outputs": [
    {
     "data": {
      "text/plain": [
       "event    15726470\n",
       "Name: hit_type, dtype: int64"
      ]
     },
     "execution_count": 96,
     "metadata": {},
     "output_type": "execute_result"
    }
   ],
   "source": [
    "hits['hit_type'].value_counts()"
   ]
  },
  {
   "cell_type": "code",
   "execution_count": 97,
   "metadata": {},
   "outputs": [
    {
     "data": {
      "text/plain": [
       "card_web                         7456998\n",
       "search_form                      2423605\n",
       "sub_page_view                    1986074\n",
       "sub_button_click                 1073471\n",
       "listing_ads                      1040468\n",
       "cars                              358915\n",
       "sap_search_form                   356596\n",
       "quiz                              263134\n",
       "auth                              189373\n",
       "sap_search__form                  188129\n",
       "jivosite                           88443\n",
       "chat                               85007\n",
       "ad_banner                          40441\n",
       "offers                             31218\n",
       "navigation                         27075\n",
       "footer                             20297\n",
       "sub_submit                         18495\n",
       "greenday_sub_button_click          15425\n",
       "main_banners                       14142\n",
       "profile_menu                       13879\n",
       "scrolling_main_page                12160\n",
       "active_invitation                   8478\n",
       "header                              3531\n",
       "my_idea                             2319\n",
       "greenday_listing_ads                1792\n",
       "main_services                       1464\n",
       "phone                               1212\n",
       "category_tile                        924\n",
       "greenday_gtm.triggergroup            766\n",
       "add_ad                               749\n",
       "greenday_sub_submit                  732\n",
       "credit_landing_pos                   274\n",
       "add_ad_additional_information        122\n",
       "main_advantages                      100\n",
       "add_ad_vin                            88\n",
       "pos_landing                           67\n",
       "add_ad_publish_success                65\n",
       "add_ad_options                        62\n",
       "add_ad_city                           59\n",
       "add_ad_photo                          55\n",
       "add_ad_price                          53\n",
       "add_ad_preview                        49\n",
       "add_ad_description                    48\n",
       "add_ad_documents                      46\n",
       "credit_buttons                        27\n",
       "wallet                                15\n",
       "tesla                                 10\n",
       "greenday_sub_page_view                 7\n",
       "add_ad_form                            4\n",
       "greenday_card_web                      4\n",
       "app_banner                             2\n",
       "titul_form                             1\n",
       "Name: event_category, dtype: int64"
      ]
     },
     "execution_count": 97,
     "metadata": {},
     "output_type": "execute_result"
    }
   ],
   "source": [
    "hits['event_category'].value_counts()"
   ]
  },
  {
   "cell_type": "code",
   "execution_count": 105,
   "metadata": {},
   "outputs": [],
   "source": [
    "hits_2 = hits.groupby('session_id').agg(hit_count=('hit_type','count'),\n",
    "                      count_page=('hit_page_path', 'nunique'),\n",
    "                      target=('event_action', 'sum'))"
   ]
  },
  {
   "cell_type": "code",
   "execution_count": 107,
   "metadata": {},
   "outputs": [],
   "source": [
    "hits_2.reset_index(inplace= True)"
   ]
  },
  {
   "cell_type": "code",
   "execution_count": 108,
   "metadata": {},
   "outputs": [
    {
     "data": {
      "text/html": [
       "<div>\n",
       "<style scoped>\n",
       "    .dataframe tbody tr th:only-of-type {\n",
       "        vertical-align: middle;\n",
       "    }\n",
       "\n",
       "    .dataframe tbody tr th {\n",
       "        vertical-align: top;\n",
       "    }\n",
       "\n",
       "    .dataframe thead th {\n",
       "        text-align: right;\n",
       "    }\n",
       "</style>\n",
       "<table border=\"1\" class=\"dataframe\">\n",
       "  <thead>\n",
       "    <tr style=\"text-align: right;\">\n",
       "      <th></th>\n",
       "      <th>session_id</th>\n",
       "      <th>hit_count</th>\n",
       "      <th>count_page</th>\n",
       "      <th>target</th>\n",
       "    </tr>\n",
       "  </thead>\n",
       "  <tbody>\n",
       "    <tr>\n",
       "      <th>0</th>\n",
       "      <td>1000009318903347362.1632663668.1632663668</td>\n",
       "      <td>10</td>\n",
       "      <td>3</td>\n",
       "      <td>0</td>\n",
       "    </tr>\n",
       "    <tr>\n",
       "      <th>1</th>\n",
       "      <td>1000010177899156286.1635013443.1635013443</td>\n",
       "      <td>6</td>\n",
       "      <td>2</td>\n",
       "      <td>0</td>\n",
       "    </tr>\n",
       "    <tr>\n",
       "      <th>2</th>\n",
       "      <td>1000013386240115915.1635402956.1635402956</td>\n",
       "      <td>11</td>\n",
       "      <td>3</td>\n",
       "      <td>0</td>\n",
       "    </tr>\n",
       "    <tr>\n",
       "      <th>3</th>\n",
       "      <td>1000017303238376207.1623489300.1623489300</td>\n",
       "      <td>12</td>\n",
       "      <td>3</td>\n",
       "      <td>0</td>\n",
       "    </tr>\n",
       "    <tr>\n",
       "      <th>4</th>\n",
       "      <td>1000020580299877109.1624943350.1624943350</td>\n",
       "      <td>1</td>\n",
       "      <td>1</td>\n",
       "      <td>0</td>\n",
       "    </tr>\n",
       "  </tbody>\n",
       "</table>\n",
       "</div>"
      ],
      "text/plain": [
       "                                  session_id  hit_count  count_page  target\n",
       "0  1000009318903347362.1632663668.1632663668         10           3       0\n",
       "1  1000010177899156286.1635013443.1635013443          6           2       0\n",
       "2  1000013386240115915.1635402956.1635402956         11           3       0\n",
       "3  1000017303238376207.1623489300.1623489300         12           3       0\n",
       "4  1000020580299877109.1624943350.1624943350          1           1       0"
      ]
     },
     "execution_count": 108,
     "metadata": {},
     "output_type": "execute_result"
    }
   ],
   "source": [
    "hits_2.head()"
   ]
  },
  {
   "cell_type": "code",
   "execution_count": 110,
   "metadata": {},
   "outputs": [
    {
     "name": "stdout",
     "output_type": "stream",
     "text": [
      "<class 'pandas.core.frame.DataFrame'>\n",
      "RangeIndex: 1734610 entries, 0 to 1734609\n",
      "Data columns (total 4 columns):\n",
      " #   Column      Dtype \n",
      "---  ------      ----- \n",
      " 0   session_id  object\n",
      " 1   hit_count   int64 \n",
      " 2   count_page  int64 \n",
      " 3   target      int64 \n",
      "dtypes: int64(3), object(1)\n",
      "memory usage: 52.9+ MB\n"
     ]
    }
   ],
   "source": [
    "hits_2.info()"
   ]
  },
  {
   "cell_type": "code",
   "execution_count": 111,
   "metadata": {},
   "outputs": [
    {
     "data": {
      "text/plain": [
       "(1734610, 4)"
      ]
     },
     "execution_count": 111,
     "metadata": {},
     "output_type": "execute_result"
    }
   ],
   "source": [
    "hits_2.shape"
   ]
  },
  {
   "cell_type": "code",
   "execution_count": 112,
   "metadata": {},
   "outputs": [
    {
     "data": {
      "text/html": [
       "<div>\n",
       "<style scoped>\n",
       "    .dataframe tbody tr th:only-of-type {\n",
       "        vertical-align: middle;\n",
       "    }\n",
       "\n",
       "    .dataframe tbody tr th {\n",
       "        vertical-align: top;\n",
       "    }\n",
       "\n",
       "    .dataframe thead th {\n",
       "        text-align: right;\n",
       "    }\n",
       "</style>\n",
       "<table border=\"1\" class=\"dataframe\">\n",
       "  <thead>\n",
       "    <tr style=\"text-align: right;\">\n",
       "      <th></th>\n",
       "      <th>hit_count</th>\n",
       "      <th>count_page</th>\n",
       "      <th>target</th>\n",
       "    </tr>\n",
       "  </thead>\n",
       "  <tbody>\n",
       "    <tr>\n",
       "      <th>count</th>\n",
       "      <td>1.734610e+06</td>\n",
       "      <td>1.734610e+06</td>\n",
       "      <td>1.734610e+06</td>\n",
       "    </tr>\n",
       "    <tr>\n",
       "      <th>mean</th>\n",
       "      <td>9.066286e+00</td>\n",
       "      <td>1.863023e+00</td>\n",
       "      <td>6.047930e-02</td>\n",
       "    </tr>\n",
       "    <tr>\n",
       "      <th>std</th>\n",
       "      <td>1.391449e+01</td>\n",
       "      <td>1.405685e+00</td>\n",
       "      <td>6.099080e-01</td>\n",
       "    </tr>\n",
       "    <tr>\n",
       "      <th>min</th>\n",
       "      <td>1.000000e+00</td>\n",
       "      <td>1.000000e+00</td>\n",
       "      <td>0.000000e+00</td>\n",
       "    </tr>\n",
       "    <tr>\n",
       "      <th>25%</th>\n",
       "      <td>1.000000e+00</td>\n",
       "      <td>1.000000e+00</td>\n",
       "      <td>0.000000e+00</td>\n",
       "    </tr>\n",
       "    <tr>\n",
       "      <th>50%</th>\n",
       "      <td>4.000000e+00</td>\n",
       "      <td>1.000000e+00</td>\n",
       "      <td>0.000000e+00</td>\n",
       "    </tr>\n",
       "    <tr>\n",
       "      <th>75%</th>\n",
       "      <td>1.100000e+01</td>\n",
       "      <td>2.000000e+00</td>\n",
       "      <td>0.000000e+00</td>\n",
       "    </tr>\n",
       "    <tr>\n",
       "      <th>max</th>\n",
       "      <td>7.680000e+02</td>\n",
       "      <td>4.500000e+01</td>\n",
       "      <td>4.740000e+02</td>\n",
       "    </tr>\n",
       "  </tbody>\n",
       "</table>\n",
       "</div>"
      ],
      "text/plain": [
       "          hit_count    count_page        target\n",
       "count  1.734610e+06  1.734610e+06  1.734610e+06\n",
       "mean   9.066286e+00  1.863023e+00  6.047930e-02\n",
       "std    1.391449e+01  1.405685e+00  6.099080e-01\n",
       "min    1.000000e+00  1.000000e+00  0.000000e+00\n",
       "25%    1.000000e+00  1.000000e+00  0.000000e+00\n",
       "50%    4.000000e+00  1.000000e+00  0.000000e+00\n",
       "75%    1.100000e+01  2.000000e+00  0.000000e+00\n",
       "max    7.680000e+02  4.500000e+01  4.740000e+02"
      ]
     },
     "execution_count": 112,
     "metadata": {},
     "output_type": "execute_result"
    }
   ],
   "source": [
    "hits_2.describe()"
   ]
  },
  {
   "cell_type": "code",
   "execution_count": 113,
   "metadata": {},
   "outputs": [],
   "source": [
    "df_merged = pd.merge(\n",
    "    sessions, hits_2,\n",
    "    left_on='session_id',\n",
    "    right_on='session_id'\n",
    ")\n"
   ]
  },
  {
   "cell_type": "code",
   "execution_count": 114,
   "metadata": {
    "scrolled": true
   },
   "outputs": [
    {
     "data": {
      "text/html": [
       "<div>\n",
       "<style scoped>\n",
       "    .dataframe tbody tr th:only-of-type {\n",
       "        vertical-align: middle;\n",
       "    }\n",
       "\n",
       "    .dataframe tbody tr th {\n",
       "        vertical-align: top;\n",
       "    }\n",
       "\n",
       "    .dataframe thead th {\n",
       "        text-align: right;\n",
       "    }\n",
       "</style>\n",
       "<table border=\"1\" class=\"dataframe\">\n",
       "  <thead>\n",
       "    <tr style=\"text-align: right;\">\n",
       "      <th></th>\n",
       "      <th>session_id</th>\n",
       "      <th>client_id</th>\n",
       "      <th>visit_number</th>\n",
       "      <th>utm_source</th>\n",
       "      <th>utm_medium</th>\n",
       "      <th>device_category</th>\n",
       "      <th>device_brand</th>\n",
       "      <th>device_screen_resolution</th>\n",
       "      <th>device_browser</th>\n",
       "      <th>geo_country</th>\n",
       "      <th>geo_city</th>\n",
       "      <th>month</th>\n",
       "      <th>hit_count</th>\n",
       "      <th>count_page</th>\n",
       "      <th>target</th>\n",
       "    </tr>\n",
       "  </thead>\n",
       "  <tbody>\n",
       "    <tr>\n",
       "      <th>0</th>\n",
       "      <td>9055434745589932991.1637753792.1637753792</td>\n",
       "      <td>2108382700.1637753791</td>\n",
       "      <td>1</td>\n",
       "      <td>0</td>\n",
       "      <td>banner</td>\n",
       "      <td>mobile</td>\n",
       "      <td>Huawei</td>\n",
       "      <td>360x720</td>\n",
       "      <td>Chrome</td>\n",
       "      <td>Russia</td>\n",
       "      <td>other</td>\n",
       "      <td>11</td>\n",
       "      <td>2</td>\n",
       "      <td>1</td>\n",
       "      <td>0</td>\n",
       "    </tr>\n",
       "    <tr>\n",
       "      <th>1</th>\n",
       "      <td>905544597018549464.1636867290.1636867290</td>\n",
       "      <td>210838531.1636867288</td>\n",
       "      <td>1</td>\n",
       "      <td>1</td>\n",
       "      <td>cpm</td>\n",
       "      <td>mobile</td>\n",
       "      <td>Samsung</td>\n",
       "      <td>385x854</td>\n",
       "      <td>other</td>\n",
       "      <td>Russia</td>\n",
       "      <td>Moscow</td>\n",
       "      <td>11</td>\n",
       "      <td>1</td>\n",
       "      <td>1</td>\n",
       "      <td>0</td>\n",
       "    </tr>\n",
       "    <tr>\n",
       "      <th>2</th>\n",
       "      <td>9055446045651783499.1640648526.1640648526</td>\n",
       "      <td>2108385331.1640648523</td>\n",
       "      <td>1</td>\n",
       "      <td>0</td>\n",
       "      <td>banner</td>\n",
       "      <td>mobile</td>\n",
       "      <td>Huawei</td>\n",
       "      <td>360x720</td>\n",
       "      <td>Chrome</td>\n",
       "      <td>Russia</td>\n",
       "      <td>other</td>\n",
       "      <td>12</td>\n",
       "      <td>16</td>\n",
       "      <td>2</td>\n",
       "      <td>0</td>\n",
       "    </tr>\n",
       "    <tr>\n",
       "      <th>3</th>\n",
       "      <td>9055447046360770272.1622255328.1622255328</td>\n",
       "      <td>2108385564.1622255328</td>\n",
       "      <td>1</td>\n",
       "      <td>0</td>\n",
       "      <td>cpc</td>\n",
       "      <td>mobile</td>\n",
       "      <td>Xiaomi</td>\n",
       "      <td>393x786</td>\n",
       "      <td>Chrome</td>\n",
       "      <td>Russia</td>\n",
       "      <td>Moscow</td>\n",
       "      <td>5</td>\n",
       "      <td>3</td>\n",
       "      <td>1</td>\n",
       "      <td>0</td>\n",
       "    </tr>\n",
       "    <tr>\n",
       "      <th>4</th>\n",
       "      <td>9055447046360770272.1622255345.1622255345</td>\n",
       "      <td>2108385564.1622255328</td>\n",
       "      <td>2</td>\n",
       "      <td>0</td>\n",
       "      <td>cpc</td>\n",
       "      <td>mobile</td>\n",
       "      <td>Xiaomi</td>\n",
       "      <td>393x786</td>\n",
       "      <td>Chrome</td>\n",
       "      <td>Russia</td>\n",
       "      <td>Moscow</td>\n",
       "      <td>5</td>\n",
       "      <td>2</td>\n",
       "      <td>1</td>\n",
       "      <td>0</td>\n",
       "    </tr>\n",
       "  </tbody>\n",
       "</table>\n",
       "</div>"
      ],
      "text/plain": [
       "                                  session_id              client_id  \\\n",
       "0  9055434745589932991.1637753792.1637753792  2108382700.1637753791   \n",
       "1   905544597018549464.1636867290.1636867290   210838531.1636867288   \n",
       "2  9055446045651783499.1640648526.1640648526  2108385331.1640648523   \n",
       "3  9055447046360770272.1622255328.1622255328  2108385564.1622255328   \n",
       "4  9055447046360770272.1622255345.1622255345  2108385564.1622255328   \n",
       "\n",
       "   visit_number  utm_source utm_medium device_category device_brand  \\\n",
       "0             1           0     banner          mobile       Huawei   \n",
       "1             1           1        cpm          mobile      Samsung   \n",
       "2             1           0     banner          mobile       Huawei   \n",
       "3             1           0        cpc          mobile       Xiaomi   \n",
       "4             2           0        cpc          mobile       Xiaomi   \n",
       "\n",
       "  device_screen_resolution device_browser geo_country geo_city  month  \\\n",
       "0                  360x720         Chrome      Russia    other     11   \n",
       "1                  385x854          other      Russia   Moscow     11   \n",
       "2                  360x720         Chrome      Russia    other     12   \n",
       "3                  393x786         Chrome      Russia   Moscow      5   \n",
       "4                  393x786         Chrome      Russia   Moscow      5   \n",
       "\n",
       "   hit_count  count_page  target  \n",
       "0          2           1       0  \n",
       "1          1           1       0  \n",
       "2         16           2       0  \n",
       "3          3           1       0  \n",
       "4          2           1       0  "
      ]
     },
     "execution_count": 114,
     "metadata": {},
     "output_type": "execute_result"
    }
   ],
   "source": [
    "df_merged.head()"
   ]
  },
  {
   "cell_type": "code",
   "execution_count": 116,
   "metadata": {},
   "outputs": [],
   "source": [
    "df_merged.to_csv(r'data\\df_merged.csv', index= False )"
   ]
  },
  {
   "cell_type": "code",
   "execution_count": 2,
   "metadata": {},
   "outputs": [],
   "source": [
    "df_merged = pd.read_csv('data\\df_merged.csv')"
   ]
  },
  {
   "cell_type": "code",
   "execution_count": 14,
   "metadata": {},
   "outputs": [
    {
     "data": {
      "text/html": [
       "<div>\n",
       "<style scoped>\n",
       "    .dataframe tbody tr th:only-of-type {\n",
       "        vertical-align: middle;\n",
       "    }\n",
       "\n",
       "    .dataframe tbody tr th {\n",
       "        vertical-align: top;\n",
       "    }\n",
       "\n",
       "    .dataframe thead th {\n",
       "        text-align: right;\n",
       "    }\n",
       "</style>\n",
       "<table border=\"1\" class=\"dataframe\">\n",
       "  <thead>\n",
       "    <tr style=\"text-align: right;\">\n",
       "      <th></th>\n",
       "      <th>session_id</th>\n",
       "      <th>client_id</th>\n",
       "      <th>visit_number</th>\n",
       "      <th>utm_source</th>\n",
       "      <th>utm_medium</th>\n",
       "      <th>device_category</th>\n",
       "      <th>device_brand</th>\n",
       "      <th>device_screen_resolution</th>\n",
       "      <th>device_browser</th>\n",
       "      <th>geo_country</th>\n",
       "      <th>geo_city</th>\n",
       "      <th>month</th>\n",
       "      <th>hit_count</th>\n",
       "      <th>count_page</th>\n",
       "      <th>target</th>\n",
       "    </tr>\n",
       "  </thead>\n",
       "  <tbody>\n",
       "    <tr>\n",
       "      <th>0</th>\n",
       "      <td>9055434745589932991.1637753792.1637753792</td>\n",
       "      <td>2.108383e+09</td>\n",
       "      <td>1</td>\n",
       "      <td>0</td>\n",
       "      <td>banner</td>\n",
       "      <td>mobile</td>\n",
       "      <td>Huawei</td>\n",
       "      <td>360x720</td>\n",
       "      <td>Chrome</td>\n",
       "      <td>Russia</td>\n",
       "      <td>other</td>\n",
       "      <td>11</td>\n",
       "      <td>2</td>\n",
       "      <td>1</td>\n",
       "      <td>0</td>\n",
       "    </tr>\n",
       "    <tr>\n",
       "      <th>1</th>\n",
       "      <td>905544597018549464.1636867290.1636867290</td>\n",
       "      <td>2.108385e+08</td>\n",
       "      <td>1</td>\n",
       "      <td>1</td>\n",
       "      <td>cpm</td>\n",
       "      <td>mobile</td>\n",
       "      <td>Samsung</td>\n",
       "      <td>385x854</td>\n",
       "      <td>other</td>\n",
       "      <td>Russia</td>\n",
       "      <td>Moscow</td>\n",
       "      <td>11</td>\n",
       "      <td>1</td>\n",
       "      <td>1</td>\n",
       "      <td>0</td>\n",
       "    </tr>\n",
       "    <tr>\n",
       "      <th>2</th>\n",
       "      <td>9055446045651783499.1640648526.1640648526</td>\n",
       "      <td>2.108385e+09</td>\n",
       "      <td>1</td>\n",
       "      <td>0</td>\n",
       "      <td>banner</td>\n",
       "      <td>mobile</td>\n",
       "      <td>Huawei</td>\n",
       "      <td>360x720</td>\n",
       "      <td>Chrome</td>\n",
       "      <td>Russia</td>\n",
       "      <td>other</td>\n",
       "      <td>12</td>\n",
       "      <td>16</td>\n",
       "      <td>2</td>\n",
       "      <td>0</td>\n",
       "    </tr>\n",
       "    <tr>\n",
       "      <th>3</th>\n",
       "      <td>9055447046360770272.1622255328.1622255328</td>\n",
       "      <td>2.108386e+09</td>\n",
       "      <td>1</td>\n",
       "      <td>0</td>\n",
       "      <td>cpc</td>\n",
       "      <td>mobile</td>\n",
       "      <td>Xiaomi</td>\n",
       "      <td>393x786</td>\n",
       "      <td>Chrome</td>\n",
       "      <td>Russia</td>\n",
       "      <td>Moscow</td>\n",
       "      <td>5</td>\n",
       "      <td>3</td>\n",
       "      <td>1</td>\n",
       "      <td>0</td>\n",
       "    </tr>\n",
       "    <tr>\n",
       "      <th>4</th>\n",
       "      <td>9055447046360770272.1622255345.1622255345</td>\n",
       "      <td>2.108386e+09</td>\n",
       "      <td>2</td>\n",
       "      <td>0</td>\n",
       "      <td>cpc</td>\n",
       "      <td>mobile</td>\n",
       "      <td>Xiaomi</td>\n",
       "      <td>393x786</td>\n",
       "      <td>Chrome</td>\n",
       "      <td>Russia</td>\n",
       "      <td>Moscow</td>\n",
       "      <td>5</td>\n",
       "      <td>2</td>\n",
       "      <td>1</td>\n",
       "      <td>0</td>\n",
       "    </tr>\n",
       "  </tbody>\n",
       "</table>\n",
       "</div>"
      ],
      "text/plain": [
       "                                  session_id     client_id  visit_number  \\\n",
       "0  9055434745589932991.1637753792.1637753792  2.108383e+09             1   \n",
       "1   905544597018549464.1636867290.1636867290  2.108385e+08             1   \n",
       "2  9055446045651783499.1640648526.1640648526  2.108385e+09             1   \n",
       "3  9055447046360770272.1622255328.1622255328  2.108386e+09             1   \n",
       "4  9055447046360770272.1622255345.1622255345  2.108386e+09             2   \n",
       "\n",
       "   utm_source utm_medium device_category device_brand  \\\n",
       "0           0     banner          mobile       Huawei   \n",
       "1           1        cpm          mobile      Samsung   \n",
       "2           0     banner          mobile       Huawei   \n",
       "3           0        cpc          mobile       Xiaomi   \n",
       "4           0        cpc          mobile       Xiaomi   \n",
       "\n",
       "  device_screen_resolution device_browser geo_country geo_city  month  \\\n",
       "0                  360x720         Chrome      Russia    other     11   \n",
       "1                  385x854          other      Russia   Moscow     11   \n",
       "2                  360x720         Chrome      Russia    other     12   \n",
       "3                  393x786         Chrome      Russia   Moscow      5   \n",
       "4                  393x786         Chrome      Russia   Moscow      5   \n",
       "\n",
       "   hit_count  count_page  target  \n",
       "0          2           1       0  \n",
       "1          1           1       0  \n",
       "2         16           2       0  \n",
       "3          3           1       0  \n",
       "4          2           1       0  "
      ]
     },
     "execution_count": 14,
     "metadata": {},
     "output_type": "execute_result"
    }
   ],
   "source": [
    "df_merged.head()"
   ]
  },
  {
   "cell_type": "code",
   "execution_count": 8,
   "metadata": {},
   "outputs": [
    {
     "data": {
      "text/plain": [
       "(1732266, 15)"
      ]
     },
     "execution_count": 8,
     "metadata": {},
     "output_type": "execute_result"
    }
   ],
   "source": [
    "df_merged.shape"
   ]
  },
  {
   "cell_type": "code",
   "execution_count": 4,
   "metadata": {},
   "outputs": [
    {
     "name": "stdout",
     "output_type": "stream",
     "text": [
      "session_id, 0, % isna 0.0 %\n",
      "client_id, 0, % isna 0.0 %\n",
      "visit_number, 0, % isna 0.0 %\n",
      "utm_source, 0, % isna 0.0 %\n",
      "utm_medium, 0, % isna 0.0 %\n",
      "device_category, 0, % isna 0.0 %\n",
      "device_brand, 0, % isna 0.0 %\n",
      "device_screen_resolution, 0, % isna 0.0 %\n",
      "device_browser, 0, % isna 0.0 %\n",
      "geo_country, 0, % isna 0.0 %\n",
      "geo_city, 0, % isna 0.0 %\n",
      "month, 0, % isna 0.0 %\n",
      "hit_count, 0, % isna 0.0 %\n",
      "count_page, 0, % isna 0.0 %\n",
      "target, 0, % isna 0.0 %\n"
     ]
    }
   ],
   "source": [
    "cols = df_merged.columns.to_list()\n",
    "\n",
    "for col in cols:\n",
    "    print(f'{col}, {sum(df_merged[col].isna())}, % isna {round(100 * sum(df_merged[col].isna()) / df_merged.shape[0], 2)} %')"
   ]
  },
  {
   "cell_type": "code",
   "execution_count": 6,
   "metadata": {
    "collapsed": true
   },
   "outputs": [
    {
     "data": {
      "text/plain": [
       "0      1681952\n",
       "1        27273\n",
       "3        11232\n",
       "2         6955\n",
       "4         2520\n",
       "6          809\n",
       "5          809\n",
       "7          210\n",
       "8          117\n",
       "9          104\n",
       "10          73\n",
       "12          29\n",
       "11          22\n",
       "14          19\n",
       "18          17\n",
       "13          13\n",
       "16          10\n",
       "24           8\n",
       "22           8\n",
       "17           7\n",
       "21           7\n",
       "35           6\n",
       "23           6\n",
       "20           6\n",
       "19           6\n",
       "27           5\n",
       "25           5\n",
       "15           4\n",
       "39           3\n",
       "30           3\n",
       "28           3\n",
       "38           2\n",
       "26           2\n",
       "42           2\n",
       "33           2\n",
       "67           1\n",
       "474          1\n",
       "48           1\n",
       "31           1\n",
       "29           1\n",
       "50           1\n",
       "46           1\n",
       "81           1\n",
       "44           1\n",
       "41           1\n",
       "83           1\n",
       "36           1\n",
       "43           1\n",
       "49           1\n",
       "47           1\n",
       "74           1\n",
       "73           1\n",
       "Name: target, dtype: int64"
      ]
     },
     "execution_count": 6,
     "metadata": {},
     "output_type": "execute_result"
    }
   ],
   "source": [
    "df_merged['target'].value_counts()"
   ]
  },
  {
   "cell_type": "code",
   "execution_count": 9,
   "metadata": {
    "collapsed": true
   },
   "outputs": [
    {
     "data": {
      "text/plain": [
       "1      1301099\n",
       "2       212176\n",
       "3        71835\n",
       "4        36600\n",
       "5        21482\n",
       "        ...   \n",
       "418          1\n",
       "419          1\n",
       "420          1\n",
       "421          1\n",
       "564          1\n",
       "Name: visit_number, Length: 533, dtype: int64"
      ]
     },
     "execution_count": 9,
     "metadata": {},
     "output_type": "execute_result"
    }
   ],
   "source": [
    "df_merged['visit_number'].value_counts()"
   ]
  },
  {
   "cell_type": "code",
   "execution_count": 15,
   "metadata": {},
   "outputs": [
    {
     "data": {
      "text/html": [
       "<div>\n",
       "<style scoped>\n",
       "    .dataframe tbody tr th:only-of-type {\n",
       "        vertical-align: middle;\n",
       "    }\n",
       "\n",
       "    .dataframe tbody tr th {\n",
       "        vertical-align: top;\n",
       "    }\n",
       "\n",
       "    .dataframe thead th {\n",
       "        text-align: right;\n",
       "    }\n",
       "</style>\n",
       "<table border=\"1\" class=\"dataframe\">\n",
       "  <thead>\n",
       "    <tr style=\"text-align: right;\">\n",
       "      <th></th>\n",
       "      <th>session_id</th>\n",
       "      <th>client_id</th>\n",
       "      <th>visit_number</th>\n",
       "      <th>utm_source</th>\n",
       "      <th>utm_medium</th>\n",
       "      <th>device_category</th>\n",
       "      <th>device_brand</th>\n",
       "      <th>device_screen_resolution</th>\n",
       "      <th>device_browser</th>\n",
       "      <th>geo_country</th>\n",
       "      <th>geo_city</th>\n",
       "      <th>month</th>\n",
       "      <th>hit_count</th>\n",
       "      <th>count_page</th>\n",
       "      <th>target</th>\n",
       "    </tr>\n",
       "  </thead>\n",
       "  <tbody>\n",
       "    <tr>\n",
       "      <th>0</th>\n",
       "      <td>9055434745589932991.1637753792.1637753792</td>\n",
       "      <td>2.108383e+09</td>\n",
       "      <td>1</td>\n",
       "      <td>0</td>\n",
       "      <td>banner</td>\n",
       "      <td>mobile</td>\n",
       "      <td>Huawei</td>\n",
       "      <td>360x720</td>\n",
       "      <td>Chrome</td>\n",
       "      <td>Russia</td>\n",
       "      <td>other</td>\n",
       "      <td>11</td>\n",
       "      <td>2</td>\n",
       "      <td>1</td>\n",
       "      <td>0</td>\n",
       "    </tr>\n",
       "    <tr>\n",
       "      <th>1</th>\n",
       "      <td>905544597018549464.1636867290.1636867290</td>\n",
       "      <td>2.108385e+08</td>\n",
       "      <td>1</td>\n",
       "      <td>1</td>\n",
       "      <td>cpm</td>\n",
       "      <td>mobile</td>\n",
       "      <td>Samsung</td>\n",
       "      <td>385x854</td>\n",
       "      <td>other</td>\n",
       "      <td>Russia</td>\n",
       "      <td>Moscow</td>\n",
       "      <td>11</td>\n",
       "      <td>1</td>\n",
       "      <td>1</td>\n",
       "      <td>0</td>\n",
       "    </tr>\n",
       "    <tr>\n",
       "      <th>2</th>\n",
       "      <td>9055446045651783499.1640648526.1640648526</td>\n",
       "      <td>2.108385e+09</td>\n",
       "      <td>1</td>\n",
       "      <td>0</td>\n",
       "      <td>banner</td>\n",
       "      <td>mobile</td>\n",
       "      <td>Huawei</td>\n",
       "      <td>360x720</td>\n",
       "      <td>Chrome</td>\n",
       "      <td>Russia</td>\n",
       "      <td>other</td>\n",
       "      <td>12</td>\n",
       "      <td>16</td>\n",
       "      <td>2</td>\n",
       "      <td>0</td>\n",
       "    </tr>\n",
       "    <tr>\n",
       "      <th>3</th>\n",
       "      <td>9055447046360770272.1622255328.1622255328</td>\n",
       "      <td>2.108386e+09</td>\n",
       "      <td>1</td>\n",
       "      <td>0</td>\n",
       "      <td>cpc</td>\n",
       "      <td>mobile</td>\n",
       "      <td>Xiaomi</td>\n",
       "      <td>393x786</td>\n",
       "      <td>Chrome</td>\n",
       "      <td>Russia</td>\n",
       "      <td>Moscow</td>\n",
       "      <td>5</td>\n",
       "      <td>3</td>\n",
       "      <td>1</td>\n",
       "      <td>0</td>\n",
       "    </tr>\n",
       "    <tr>\n",
       "      <th>4</th>\n",
       "      <td>9055447046360770272.1622255345.1622255345</td>\n",
       "      <td>2.108386e+09</td>\n",
       "      <td>2</td>\n",
       "      <td>0</td>\n",
       "      <td>cpc</td>\n",
       "      <td>mobile</td>\n",
       "      <td>Xiaomi</td>\n",
       "      <td>393x786</td>\n",
       "      <td>Chrome</td>\n",
       "      <td>Russia</td>\n",
       "      <td>Moscow</td>\n",
       "      <td>5</td>\n",
       "      <td>2</td>\n",
       "      <td>1</td>\n",
       "      <td>0</td>\n",
       "    </tr>\n",
       "  </tbody>\n",
       "</table>\n",
       "</div>"
      ],
      "text/plain": [
       "                                  session_id     client_id  visit_number  \\\n",
       "0  9055434745589932991.1637753792.1637753792  2.108383e+09             1   \n",
       "1   905544597018549464.1636867290.1636867290  2.108385e+08             1   \n",
       "2  9055446045651783499.1640648526.1640648526  2.108385e+09             1   \n",
       "3  9055447046360770272.1622255328.1622255328  2.108386e+09             1   \n",
       "4  9055447046360770272.1622255345.1622255345  2.108386e+09             2   \n",
       "\n",
       "   utm_source utm_medium device_category device_brand  \\\n",
       "0           0     banner          mobile       Huawei   \n",
       "1           1        cpm          mobile      Samsung   \n",
       "2           0     banner          mobile       Huawei   \n",
       "3           0        cpc          mobile       Xiaomi   \n",
       "4           0        cpc          mobile       Xiaomi   \n",
       "\n",
       "  device_screen_resolution device_browser geo_country geo_city  month  \\\n",
       "0                  360x720         Chrome      Russia    other     11   \n",
       "1                  385x854          other      Russia   Moscow     11   \n",
       "2                  360x720         Chrome      Russia    other     12   \n",
       "3                  393x786         Chrome      Russia   Moscow      5   \n",
       "4                  393x786         Chrome      Russia   Moscow      5   \n",
       "\n",
       "   hit_count  count_page  target  \n",
       "0          2           1       0  \n",
       "1          1           1       0  \n",
       "2         16           2       0  \n",
       "3          3           1       0  \n",
       "4          2           1       0  "
      ]
     },
     "execution_count": 15,
     "metadata": {},
     "output_type": "execute_result"
    }
   ],
   "source": [
    "df_merged.head()"
   ]
  },
  {
   "cell_type": "code",
   "execution_count": 45,
   "metadata": {},
   "outputs": [],
   "source": [
    "get_max = lambda x: pd.Series.mode(x)[0]"
   ]
  },
  {
   "cell_type": "code",
   "execution_count": 48,
   "metadata": {},
   "outputs": [],
   "source": [
    "df_merged_example = df_merged.groupby('client_id').agg(utm_medium=('utm_medium', lambda x: pd.Series.mode(x)[0]))\n"
   ]
  },
  {
   "cell_type": "code",
   "execution_count": 52,
   "metadata": {},
   "outputs": [],
   "source": [
    "df_merged_fin = df_merged.groupby('client_id').agg(entries=('session_id','nunique'),\n",
    "                      utm_source=('utm_source', 'mean'), utm_medium=('utm_medium', lambda x: pd.Series.mode(x)[0]),\n",
    "                      device_category=('device_category', lambda x: pd.Series.mode(x)[0]), \n",
    "                      device_brand=('device_brand', lambda x: pd.Series.mode(x)[0]),\n",
    "                      device_screen_resolution=('device_screen_resolution', lambda x: pd.Series.mode(x)[0]), \n",
    "                      device_browser=('device_browser', lambda x: pd.Series.mode(x)[0]),\n",
    "                      geo_country=('geo_country', lambda x: pd.Series.mode(x)[0]), \n",
    "                      geo_city=('geo_city', lambda x: pd.Series.mode(x)[0]),\n",
    "                      month=('month', 'mean'), hit_count=('hit_count', 'mean'), count_page=('count_page', 'mean'),                                                   \n",
    "                      target=('target', 'sum'))"
   ]
  },
  {
   "cell_type": "code",
   "execution_count": 53,
   "metadata": {},
   "outputs": [],
   "source": [
    "df_merged_fin.reset_index(inplace= True)"
   ]
  },
  {
   "cell_type": "code",
   "execution_count": 54,
   "metadata": {},
   "outputs": [
    {
     "data": {
      "text/html": [
       "<div>\n",
       "<style scoped>\n",
       "    .dataframe tbody tr th:only-of-type {\n",
       "        vertical-align: middle;\n",
       "    }\n",
       "\n",
       "    .dataframe tbody tr th {\n",
       "        vertical-align: top;\n",
       "    }\n",
       "\n",
       "    .dataframe thead th {\n",
       "        text-align: right;\n",
       "    }\n",
       "</style>\n",
       "<table border=\"1\" class=\"dataframe\">\n",
       "  <thead>\n",
       "    <tr style=\"text-align: right;\">\n",
       "      <th></th>\n",
       "      <th>client_id</th>\n",
       "      <th>entries</th>\n",
       "      <th>utm_source</th>\n",
       "      <th>utm_medium</th>\n",
       "      <th>device_category</th>\n",
       "      <th>device_brand</th>\n",
       "      <th>device_screen_resolution</th>\n",
       "      <th>device_browser</th>\n",
       "      <th>geo_country</th>\n",
       "      <th>geo_city</th>\n",
       "      <th>month</th>\n",
       "      <th>hit_count</th>\n",
       "      <th>count_page</th>\n",
       "      <th>target</th>\n",
       "    </tr>\n",
       "  </thead>\n",
       "  <tbody>\n",
       "    <tr>\n",
       "      <th>0</th>\n",
       "      <td>232.164009</td>\n",
       "      <td>1</td>\n",
       "      <td>0.0</td>\n",
       "      <td>other</td>\n",
       "      <td>mobile</td>\n",
       "      <td>Huawei</td>\n",
       "      <td>360x780</td>\n",
       "      <td>Chrome</td>\n",
       "      <td>Russia</td>\n",
       "      <td>Moscow</td>\n",
       "      <td>12.0</td>\n",
       "      <td>7.0</td>\n",
       "      <td>2.0</td>\n",
       "      <td>0</td>\n",
       "    </tr>\n",
       "    <tr>\n",
       "      <th>1</th>\n",
       "      <td>289.163597</td>\n",
       "      <td>1</td>\n",
       "      <td>0.0</td>\n",
       "      <td>cpc</td>\n",
       "      <td>mobile</td>\n",
       "      <td>other</td>\n",
       "      <td>385x813</td>\n",
       "      <td>other</td>\n",
       "      <td>Russia</td>\n",
       "      <td>Saint Petersburg</td>\n",
       "      <td>11.0</td>\n",
       "      <td>1.0</td>\n",
       "      <td>1.0</td>\n",
       "      <td>0</td>\n",
       "    </tr>\n",
       "    <tr>\n",
       "      <th>2</th>\n",
       "      <td>3673.163110</td>\n",
       "      <td>1</td>\n",
       "      <td>1.0</td>\n",
       "      <td>cpm</td>\n",
       "      <td>mobile</td>\n",
       "      <td>Samsung</td>\n",
       "      <td>412x892</td>\n",
       "      <td>Chrome</td>\n",
       "      <td>Russia</td>\n",
       "      <td>Saint Petersburg</td>\n",
       "      <td>9.0</td>\n",
       "      <td>1.0</td>\n",
       "      <td>1.0</td>\n",
       "      <td>0</td>\n",
       "    </tr>\n",
       "    <tr>\n",
       "      <th>3</th>\n",
       "      <td>4204.162721</td>\n",
       "      <td>1</td>\n",
       "      <td>0.0</td>\n",
       "      <td>banner</td>\n",
       "      <td>mobile</td>\n",
       "      <td>Apple</td>\n",
       "      <td>375x812</td>\n",
       "      <td>Safari</td>\n",
       "      <td>Russia</td>\n",
       "      <td>Moscow</td>\n",
       "      <td>7.0</td>\n",
       "      <td>9.0</td>\n",
       "      <td>3.0</td>\n",
       "      <td>0</td>\n",
       "    </tr>\n",
       "    <tr>\n",
       "      <th>4</th>\n",
       "      <td>6052.162185</td>\n",
       "      <td>1</td>\n",
       "      <td>0.0</td>\n",
       "      <td>organic</td>\n",
       "      <td>mobile</td>\n",
       "      <td>Apple</td>\n",
       "      <td>414x736</td>\n",
       "      <td>Safari</td>\n",
       "      <td>Russia</td>\n",
       "      <td>Moscow</td>\n",
       "      <td>5.0</td>\n",
       "      <td>7.0</td>\n",
       "      <td>2.0</td>\n",
       "      <td>0</td>\n",
       "    </tr>\n",
       "  </tbody>\n",
       "</table>\n",
       "</div>"
      ],
      "text/plain": [
       "     client_id  entries  utm_source utm_medium device_category device_brand  \\\n",
       "0   232.164009        1         0.0      other          mobile       Huawei   \n",
       "1   289.163597        1         0.0        cpc          mobile        other   \n",
       "2  3673.163110        1         1.0        cpm          mobile      Samsung   \n",
       "3  4204.162721        1         0.0     banner          mobile        Apple   \n",
       "4  6052.162185        1         0.0    organic          mobile        Apple   \n",
       "\n",
       "  device_screen_resolution device_browser geo_country          geo_city  \\\n",
       "0                  360x780         Chrome      Russia            Moscow   \n",
       "1                  385x813          other      Russia  Saint Petersburg   \n",
       "2                  412x892         Chrome      Russia  Saint Petersburg   \n",
       "3                  375x812         Safari      Russia            Moscow   \n",
       "4                  414x736         Safari      Russia            Moscow   \n",
       "\n",
       "   month  hit_count  count_page  target  \n",
       "0   12.0        7.0         2.0       0  \n",
       "1   11.0        1.0         1.0       0  \n",
       "2    9.0        1.0         1.0       0  \n",
       "3    7.0        9.0         3.0       0  \n",
       "4    5.0        7.0         2.0       0  "
      ]
     },
     "execution_count": 54,
     "metadata": {},
     "output_type": "execute_result"
    }
   ],
   "source": [
    "df_merged_fin.head()"
   ]
  },
  {
   "cell_type": "code",
   "execution_count": 55,
   "metadata": {},
   "outputs": [],
   "source": [
    "df_merged_fin.to_csv(r'data\\df_merged_fin.csv', index= False )"
   ]
  },
  {
   "cell_type": "code",
   "execution_count": 2,
   "metadata": {},
   "outputs": [],
   "source": [
    "df_merged_fin = pd.read_csv('data\\df_merged_fin.csv')"
   ]
  },
  {
   "cell_type": "code",
   "execution_count": 3,
   "metadata": {},
   "outputs": [
    {
     "name": "stdout",
     "output_type": "stream",
     "text": [
      "<class 'pandas.core.frame.DataFrame'>\n",
      "RangeIndex: 1320701 entries, 0 to 1320700\n",
      "Data columns (total 14 columns):\n",
      " #   Column                    Non-Null Count    Dtype  \n",
      "---  ------                    --------------    -----  \n",
      " 0   client_id                 1320701 non-null  float64\n",
      " 1   entries                   1320701 non-null  int64  \n",
      " 2   utm_source                1320701 non-null  float64\n",
      " 3   utm_medium                1320701 non-null  object \n",
      " 4   device_category           1320701 non-null  object \n",
      " 5   device_brand              1320701 non-null  object \n",
      " 6   device_screen_resolution  1320701 non-null  object \n",
      " 7   device_browser            1320701 non-null  object \n",
      " 8   geo_country               1320701 non-null  object \n",
      " 9   geo_city                  1320701 non-null  object \n",
      " 10  month                     1320701 non-null  float64\n",
      " 11  hit_count                 1320701 non-null  float64\n",
      " 12  count_page                1320701 non-null  float64\n",
      " 13  target                    1320701 non-null  int64  \n",
      "dtypes: float64(5), int64(2), object(7)\n",
      "memory usage: 141.1+ MB\n"
     ]
    }
   ],
   "source": [
    "df_merged_fin.info()"
   ]
  },
  {
   "cell_type": "code",
   "execution_count": 4,
   "metadata": {},
   "outputs": [],
   "source": [
    "num_col = df_merged_fin.select_dtypes(include=['float64', 'int64']).columns.to_list()[1:]\n",
    "cat_col = df_merged_fin.select_dtypes(include=['object']).columns.to_list()"
   ]
  },
  {
   "cell_type": "code",
   "execution_count": 5,
   "metadata": {},
   "outputs": [
    {
     "data": {
      "text/plain": [
       "['entries', 'utm_source', 'month', 'hit_count', 'count_page', 'target']"
      ]
     },
     "execution_count": 5,
     "metadata": {},
     "output_type": "execute_result"
    }
   ],
   "source": [
    "num_col"
   ]
  },
  {
   "cell_type": "code",
   "execution_count": 6,
   "metadata": {},
   "outputs": [
    {
     "data": {
      "image/png": "[encoded data removed]",
      "text/plain": [
       "<Figure size 2000x1000 with 6 Axes>"
      ]
     },
     "metadata": {},
     "output_type": "display_data"
    }
   ],
   "source": [
    "fig, axes = plt.subplots(nrows=2, ncols=3, figsize=(20,10))\n",
    "ax = axes.ravel()\n",
    "for i, col in enumerate(num_col):\n",
    "    ax[i].hist(df_merged_fin[col])\n",
    "    ax[i].set_title(col)"
   ]
  },
  {
   "cell_type": "code",
   "execution_count": 7,
   "metadata": {},
   "outputs": [
    {
     "data": {
      "image/png": "[encoded data removed]",
      "text/plain": [
       "<Figure size 2000x1000 with 6 Axes>"
      ]
     },
     "metadata": {},
     "output_type": "display_data"
    }
   ],
   "source": [
    "fig, axes = plt.subplots(nrows=2, ncols=3, figsize=(20,10))\n",
    "ax = axes.ravel()\n",
    "for i, col in enumerate(num_col):\n",
    "    ax[i].boxplot(df_merged_fin[col])\n",
    "    ax[i].set_title(col)"
   ]
  },
  {
   "cell_type": "code",
   "execution_count": 8,
   "metadata": {},
   "outputs": [
    {
     "data": {
      "text/html": [
       "<div>\n",
       "<style scoped>\n",
       "    .dataframe tbody tr th:only-of-type {\n",
       "        vertical-align: middle;\n",
       "    }\n",
       "\n",
       "    .dataframe tbody tr th {\n",
       "        vertical-align: top;\n",
       "    }\n",
       "\n",
       "    .dataframe thead th {\n",
       "        text-align: right;\n",
       "    }\n",
       "</style>\n",
       "<table border=\"1\" class=\"dataframe\">\n",
       "  <thead>\n",
       "    <tr style=\"text-align: right;\">\n",
       "      <th></th>\n",
       "      <th>entries</th>\n",
       "      <th>utm_source</th>\n",
       "      <th>month</th>\n",
       "      <th>hit_count</th>\n",
       "      <th>count_page</th>\n",
       "      <th>target</th>\n",
       "    </tr>\n",
       "  </thead>\n",
       "  <tbody>\n",
       "    <tr>\n",
       "      <th>count</th>\n",
       "      <td>1.320701e+06</td>\n",
       "      <td>1.320701e+06</td>\n",
       "      <td>1.320701e+06</td>\n",
       "      <td>1.320701e+06</td>\n",
       "      <td>1.320701e+06</td>\n",
       "      <td>1.320701e+06</td>\n",
       "    </tr>\n",
       "    <tr>\n",
       "      <th>mean</th>\n",
       "      <td>1.311626e+00</td>\n",
       "      <td>1.664867e-01</td>\n",
       "      <td>9.383964e+00</td>\n",
       "      <td>8.641836e+00</td>\n",
       "      <td>1.819916e+00</td>\n",
       "      <td>7.786925e-02</td>\n",
       "    </tr>\n",
       "    <tr>\n",
       "      <th>std</th>\n",
       "      <td>1.767962e+00</td>\n",
       "      <td>3.711335e-01</td>\n",
       "      <td>2.192258e+00</td>\n",
       "      <td>1.232285e+01</td>\n",
       "      <td>1.239523e+00</td>\n",
       "      <td>1.622575e+00</td>\n",
       "    </tr>\n",
       "    <tr>\n",
       "      <th>min</th>\n",
       "      <td>1.000000e+00</td>\n",
       "      <td>0.000000e+00</td>\n",
       "      <td>5.000000e+00</td>\n",
       "      <td>1.000000e+00</td>\n",
       "      <td>1.000000e+00</td>\n",
       "      <td>0.000000e+00</td>\n",
       "    </tr>\n",
       "    <tr>\n",
       "      <th>25%</th>\n",
       "      <td>1.000000e+00</td>\n",
       "      <td>0.000000e+00</td>\n",
       "      <td>8.000000e+00</td>\n",
       "      <td>1.000000e+00</td>\n",
       "      <td>1.000000e+00</td>\n",
       "      <td>0.000000e+00</td>\n",
       "    </tr>\n",
       "    <tr>\n",
       "      <th>50%</th>\n",
       "      <td>1.000000e+00</td>\n",
       "      <td>0.000000e+00</td>\n",
       "      <td>1.000000e+01</td>\n",
       "      <td>4.000000e+00</td>\n",
       "      <td>1.000000e+00</td>\n",
       "      <td>0.000000e+00</td>\n",
       "    </tr>\n",
       "    <tr>\n",
       "      <th>75%</th>\n",
       "      <td>1.000000e+00</td>\n",
       "      <td>0.000000e+00</td>\n",
       "      <td>1.100000e+01</td>\n",
       "      <td>1.100000e+01</td>\n",
       "      <td>2.000000e+00</td>\n",
       "      <td>0.000000e+00</td>\n",
       "    </tr>\n",
       "    <tr>\n",
       "      <th>max</th>\n",
       "      <td>4.490000e+02</td>\n",
       "      <td>1.000000e+00</td>\n",
       "      <td>1.200000e+01</td>\n",
       "      <td>7.680000e+02</td>\n",
       "      <td>4.200000e+01</td>\n",
       "      <td>1.588000e+03</td>\n",
       "    </tr>\n",
       "  </tbody>\n",
       "</table>\n",
       "</div>"
      ],
      "text/plain": [
       "            entries    utm_source         month     hit_count    count_page  \\\n",
       "count  1.320701e+06  1.320701e+06  1.320701e+06  1.320701e+06  1.320701e+06   \n",
       "mean   1.311626e+00  1.664867e-01  9.383964e+00  8.641836e+00  1.819916e+00   \n",
       "std    1.767962e+00  3.711335e-01  2.192258e+00  1.232285e+01  1.239523e+00   \n",
       "min    1.000000e+00  0.000000e+00  5.000000e+00  1.000000e+00  1.000000e+00   \n",
       "25%    1.000000e+00  0.000000e+00  8.000000e+00  1.000000e+00  1.000000e+00   \n",
       "50%    1.000000e+00  0.000000e+00  1.000000e+01  4.000000e+00  1.000000e+00   \n",
       "75%    1.000000e+00  0.000000e+00  1.100000e+01  1.100000e+01  2.000000e+00   \n",
       "max    4.490000e+02  1.000000e+00  1.200000e+01  7.680000e+02  4.200000e+01   \n",
       "\n",
       "             target  \n",
       "count  1.320701e+06  \n",
       "mean   7.786925e-02  \n",
       "std    1.622575e+00  \n",
       "min    0.000000e+00  \n",
       "25%    0.000000e+00  \n",
       "50%    0.000000e+00  \n",
       "75%    0.000000e+00  \n",
       "max    1.588000e+03  "
      ]
     },
     "execution_count": 8,
     "metadata": {},
     "output_type": "execute_result"
    }
   ],
   "source": [
    "df_merged_fin[num_col].describe()"
   ]
  },
  {
   "cell_type": "code",
   "execution_count": 6,
   "metadata": {},
   "outputs": [],
   "source": [
    "df_merged_fin['device_screen_resolution'] = df_merged_fin['device_screen_resolution'].apply(lambda x: x if x in \n",
    "                                        ['414x896', '1920x1080', '375x812', '393x851'] else 'other')"
   ]
  },
  {
   "cell_type": "code",
   "execution_count": 10,
   "metadata": {},
   "outputs": [
    {
     "data": {
      "image/png": "[encoded data removed]",
      "text/plain": [
       "<Figure size 2000x1000 with 8 Axes>"
      ]
     },
     "metadata": {},
     "output_type": "display_data"
    }
   ],
   "source": [
    "fig, axes = plt.subplots(nrows=2, ncols=4, figsize=(20, 10))\n",
    "ax = axes.ravel()\n",
    "for i, cat in enumerate(cat_col):\n",
    "    x = df_merged_fin[cat].value_counts() #признаки\n",
    "    index = x.index #наименования в признаках\n",
    "    ax[i].pie(x=x, labels=index, autopct=\"%1.1f%%\")\n",
    "    ax[i].set_title(cat)"
   ]
  },
  {
   "cell_type": "code",
   "execution_count": null,
   "metadata": {},
   "outputs": [],
   "source": [
    "# Уберем аномалии по следующему принципу:\n",
    "# entries - количество заходов до 50,\n",
    "# hit_count - количество действий - до 150\n",
    "# target - количество целевых действий - до 30\n",
    "# Уберем колонку client_id и target переведем в 0/1 (1 - 1 и больше целевых действий)"
   ]
  },
  {
   "cell_type": "code",
   "execution_count": 7,
   "metadata": {},
   "outputs": [],
   "source": [
    "df_final = df_merged_fin.drop(['client_id'], axis=1)"
   ]
  },
  {
   "cell_type": "code",
   "execution_count": 8,
   "metadata": {},
   "outputs": [],
   "source": [
    "df_final = df_final[(df_final['entries'] <= 50) & (df_final['hit_count'] <= 150) & (df_final['target'] <= 30)]"
   ]
  },
  {
   "cell_type": "code",
   "execution_count": 17,
   "metadata": {},
   "outputs": [
    {
     "data": {
      "text/plain": [
       "(1320085, 13)"
      ]
     },
     "execution_count": 17,
     "metadata": {},
     "output_type": "execute_result"
    }
   ],
   "source": [
    "df_final.shape"
   ]
  },
  {
   "cell_type": "code",
   "execution_count": 9,
   "metadata": {},
   "outputs": [],
   "source": [
    "df_final['target'] = df_final['target'].apply(lambda x: 0 if x < 1 else 1)"
   ]
  },
  {
   "cell_type": "code",
   "execution_count": 21,
   "metadata": {},
   "outputs": [
    {
     "data": {
      "text/plain": [
       "0    1276461\n",
       "1      43624\n",
       "Name: target, dtype: int64"
      ]
     },
     "execution_count": 21,
     "metadata": {},
     "output_type": "execute_result"
    }
   ],
   "source": [
    "df_final['target'].value_counts()"
   ]
  },
  {
   "cell_type": "code",
   "execution_count": 22,
   "metadata": {},
   "outputs": [
    {
     "data": {
      "image/png": "[encoded data removed]",
      "text/plain": [
       "<Figure size 2000x1000 with 6 Axes>"
      ]
     },
     "metadata": {},
     "output_type": "display_data"
    }
   ],
   "source": [
    "fig, axes = plt.subplots(nrows=2, ncols=3, figsize=(20,10))\n",
    "ax = axes.ravel()\n",
    "for i, col in enumerate(num_col):\n",
    "    ax[i].boxplot(df_final[col])\n",
    "    ax[i].set_title(col)"
   ]
  },
  {
   "cell_type": "code",
   "execution_count": 23,
   "metadata": {},
   "outputs": [
    {
     "data": {
      "image/png": "[encoded data removed]",
      "text/plain": [
       "<Figure size 640x480 with 2 Axes>"
      ]
     },
     "metadata": {},
     "output_type": "display_data"
    }
   ],
   "source": [
    "# Посмотрим корреляции\n",
    "corr = df_final.corr()\n",
    "\n",
    "sns.heatmap(corr, cmap=\"Blues\", annot=True);"
   ]
  },
  {
   "cell_type": "code",
   "execution_count": null,
   "metadata": {},
   "outputs": [],
   "source": [
    "# Есть достаточно сильная корреляция между количеством действий и количеством посещенных страниц, но не близкая к единице. \n",
    "# Возможно регуляризация не понадобится.\n",
    "\n",
    "# Дальше сделаем OHE-кодирование"
   ]
  },
  {
   "cell_type": "code",
   "execution_count": 10,
   "metadata": {},
   "outputs": [],
   "source": [
    "ohe = OneHotEncoder(sparse=False)\n",
    "\n",
    "data = df_final[cat_col]\n",
    "\n",
    "ohe.fit(data)\n",
    "ohe_categorical = ohe.transform(data)\n",
    "\n",
    "df_final[ohe.get_feature_names_out()] = ohe_categorical"
   ]
  },
  {
   "cell_type": "code",
   "execution_count": 11,
   "metadata": {},
   "outputs": [],
   "source": [
    "df_final = df_final.drop(cat_col, axis=1)"
   ]
  },
  {
   "cell_type": "code",
   "execution_count": 29,
   "metadata": {},
   "outputs": [
    {
     "data": {
      "text/html": [
       "<div>\n",
       "<style scoped>\n",
       "    .dataframe tbody tr th:only-of-type {\n",
       "        vertical-align: middle;\n",
       "    }\n",
       "\n",
       "    .dataframe tbody tr th {\n",
       "        vertical-align: top;\n",
       "    }\n",
       "\n",
       "    .dataframe thead th {\n",
       "        text-align: right;\n",
       "    }\n",
       "</style>\n",
       "<table border=\"1\" class=\"dataframe\">\n",
       "  <thead>\n",
       "    <tr style=\"text-align: right;\">\n",
       "      <th></th>\n",
       "      <th>entries</th>\n",
       "      <th>utm_source</th>\n",
       "      <th>month</th>\n",
       "      <th>hit_count</th>\n",
       "      <th>count_page</th>\n",
       "      <th>target</th>\n",
       "      <th>utm_medium_banner</th>\n",
       "      <th>utm_medium_cpc</th>\n",
       "      <th>utm_medium_cpm</th>\n",
       "      <th>utm_medium_organic</th>\n",
       "      <th>...</th>\n",
       "      <th>device_browser_Chrome</th>\n",
       "      <th>device_browser_Safari</th>\n",
       "      <th>device_browser_other</th>\n",
       "      <th>geo_country_Russia</th>\n",
       "      <th>geo_country_other</th>\n",
       "      <th>geo_city_Krasnodar</th>\n",
       "      <th>geo_city_Moscow</th>\n",
       "      <th>geo_city_Saint Petersburg</th>\n",
       "      <th>geo_city_Yekaterinburg</th>\n",
       "      <th>geo_city_other</th>\n",
       "    </tr>\n",
       "  </thead>\n",
       "  <tbody>\n",
       "    <tr>\n",
       "      <th>0</th>\n",
       "      <td>1</td>\n",
       "      <td>0.0</td>\n",
       "      <td>12.0</td>\n",
       "      <td>7.0</td>\n",
       "      <td>2.0</td>\n",
       "      <td>0</td>\n",
       "      <td>0.0</td>\n",
       "      <td>0.0</td>\n",
       "      <td>0.0</td>\n",
       "      <td>0.0</td>\n",
       "      <td>...</td>\n",
       "      <td>1.0</td>\n",
       "      <td>0.0</td>\n",
       "      <td>0.0</td>\n",
       "      <td>1.0</td>\n",
       "      <td>0.0</td>\n",
       "      <td>0.0</td>\n",
       "      <td>1.0</td>\n",
       "      <td>0.0</td>\n",
       "      <td>0.0</td>\n",
       "      <td>0.0</td>\n",
       "    </tr>\n",
       "    <tr>\n",
       "      <th>1</th>\n",
       "      <td>1</td>\n",
       "      <td>0.0</td>\n",
       "      <td>11.0</td>\n",
       "      <td>1.0</td>\n",
       "      <td>1.0</td>\n",
       "      <td>0</td>\n",
       "      <td>0.0</td>\n",
       "      <td>1.0</td>\n",
       "      <td>0.0</td>\n",
       "      <td>0.0</td>\n",
       "      <td>...</td>\n",
       "      <td>0.0</td>\n",
       "      <td>0.0</td>\n",
       "      <td>1.0</td>\n",
       "      <td>1.0</td>\n",
       "      <td>0.0</td>\n",
       "      <td>0.0</td>\n",
       "      <td>0.0</td>\n",
       "      <td>1.0</td>\n",
       "      <td>0.0</td>\n",
       "      <td>0.0</td>\n",
       "    </tr>\n",
       "    <tr>\n",
       "      <th>2</th>\n",
       "      <td>1</td>\n",
       "      <td>1.0</td>\n",
       "      <td>9.0</td>\n",
       "      <td>1.0</td>\n",
       "      <td>1.0</td>\n",
       "      <td>0</td>\n",
       "      <td>0.0</td>\n",
       "      <td>0.0</td>\n",
       "      <td>1.0</td>\n",
       "      <td>0.0</td>\n",
       "      <td>...</td>\n",
       "      <td>1.0</td>\n",
       "      <td>0.0</td>\n",
       "      <td>0.0</td>\n",
       "      <td>1.0</td>\n",
       "      <td>0.0</td>\n",
       "      <td>0.0</td>\n",
       "      <td>0.0</td>\n",
       "      <td>1.0</td>\n",
       "      <td>0.0</td>\n",
       "      <td>0.0</td>\n",
       "    </tr>\n",
       "    <tr>\n",
       "      <th>3</th>\n",
       "      <td>1</td>\n",
       "      <td>0.0</td>\n",
       "      <td>7.0</td>\n",
       "      <td>9.0</td>\n",
       "      <td>3.0</td>\n",
       "      <td>0</td>\n",
       "      <td>1.0</td>\n",
       "      <td>0.0</td>\n",
       "      <td>0.0</td>\n",
       "      <td>0.0</td>\n",
       "      <td>...</td>\n",
       "      <td>0.0</td>\n",
       "      <td>1.0</td>\n",
       "      <td>0.0</td>\n",
       "      <td>1.0</td>\n",
       "      <td>0.0</td>\n",
       "      <td>0.0</td>\n",
       "      <td>1.0</td>\n",
       "      <td>0.0</td>\n",
       "      <td>0.0</td>\n",
       "      <td>0.0</td>\n",
       "    </tr>\n",
       "    <tr>\n",
       "      <th>4</th>\n",
       "      <td>1</td>\n",
       "      <td>0.0</td>\n",
       "      <td>5.0</td>\n",
       "      <td>7.0</td>\n",
       "      <td>2.0</td>\n",
       "      <td>0</td>\n",
       "      <td>0.0</td>\n",
       "      <td>0.0</td>\n",
       "      <td>0.0</td>\n",
       "      <td>1.0</td>\n",
       "      <td>...</td>\n",
       "      <td>0.0</td>\n",
       "      <td>1.0</td>\n",
       "      <td>0.0</td>\n",
       "      <td>1.0</td>\n",
       "      <td>0.0</td>\n",
       "      <td>0.0</td>\n",
       "      <td>1.0</td>\n",
       "      <td>0.0</td>\n",
       "      <td>0.0</td>\n",
       "      <td>0.0</td>\n",
       "    </tr>\n",
       "  </tbody>\n",
       "</table>\n",
       "<p>5 rows × 34 columns</p>\n",
       "</div>"
      ],
      "text/plain": [
       "   entries  utm_source  month  hit_count  count_page  target  \\\n",
       "0        1         0.0   12.0        7.0         2.0       0   \n",
       "1        1         0.0   11.0        1.0         1.0       0   \n",
       "2        1         1.0    9.0        1.0         1.0       0   \n",
       "3        1         0.0    7.0        9.0         3.0       0   \n",
       "4        1         0.0    5.0        7.0         2.0       0   \n",
       "\n",
       "   utm_medium_banner  utm_medium_cpc  utm_medium_cpm  utm_medium_organic  ...  \\\n",
       "0                0.0             0.0             0.0                 0.0  ...   \n",
       "1                0.0             1.0             0.0                 0.0  ...   \n",
       "2                0.0             0.0             1.0                 0.0  ...   \n",
       "3                1.0             0.0             0.0                 0.0  ...   \n",
       "4                0.0             0.0             0.0                 1.0  ...   \n",
       "\n",
       "   device_browser_Chrome  device_browser_Safari  device_browser_other  \\\n",
       "0                    1.0                    0.0                   0.0   \n",
       "1                    0.0                    0.0                   1.0   \n",
       "2                    1.0                    0.0                   0.0   \n",
       "3                    0.0                    1.0                   0.0   \n",
       "4                    0.0                    1.0                   0.0   \n",
       "\n",
       "   geo_country_Russia  geo_country_other  geo_city_Krasnodar  geo_city_Moscow  \\\n",
       "0                 1.0                0.0                 0.0              1.0   \n",
       "1                 1.0                0.0                 0.0              0.0   \n",
       "2                 1.0                0.0                 0.0              0.0   \n",
       "3                 1.0                0.0                 0.0              1.0   \n",
       "4                 1.0                0.0                 0.0              1.0   \n",
       "\n",
       "   geo_city_Saint Petersburg  geo_city_Yekaterinburg  geo_city_other  \n",
       "0                        0.0                     0.0             0.0  \n",
       "1                        1.0                     0.0             0.0  \n",
       "2                        1.0                     0.0             0.0  \n",
       "3                        0.0                     0.0             0.0  \n",
       "4                        0.0                     0.0             0.0  \n",
       "\n",
       "[5 rows x 34 columns]"
      ]
     },
     "execution_count": 29,
     "metadata": {},
     "output_type": "execute_result"
    }
   ],
   "source": [
    "df_final.head()"
   ]
  },
  {
   "cell_type": "code",
   "execution_count": 12,
   "metadata": {},
   "outputs": [],
   "source": [
    "#Разделим выборку на обучающую и тестовую части\n",
    "\n",
    "X = df_final.drop(['target'], axis=1)\n",
    "y = df_final['target']\n",
    "\n",
    "x_train, x_test, y_train, y_test = train_test_split(\n",
    "    X, y, test_size=0.3, random_state=42\n",
    ")"
   ]
  },
  {
   "cell_type": "code",
   "execution_count": 32,
   "metadata": {},
   "outputs": [
    {
     "data": {
      "text/plain": [
       "(924059, 33)"
      ]
     },
     "execution_count": 32,
     "metadata": {},
     "output_type": "execute_result"
    }
   ],
   "source": [
    "x_train.shape"
   ]
  },
  {
   "cell_type": "code",
   "execution_count": 13,
   "metadata": {},
   "outputs": [],
   "source": [
    "# Проведем нормализацию датасета\n",
    "df_cols = x_train.columns.to_list()\n",
    "\n",
    "mm_scaler = MinMaxScaler()\n",
    "\n",
    "mm_scaler.fit(x_train)\n",
    "\n",
    "x_train = pd.DataFrame(mm_scaler.transform(x_train), columns=df_cols)\n",
    "x_test = pd.DataFrame(mm_scaler.transform(x_test), columns=df_cols)"
   ]
  },
  {
   "cell_type": "code",
   "execution_count": 13,
   "metadata": {},
   "outputs": [
    {
     "data": {
      "text/html": [
       "<div>\n",
       "<style scoped>\n",
       "    .dataframe tbody tr th:only-of-type {\n",
       "        vertical-align: middle;\n",
       "    }\n",
       "\n",
       "    .dataframe tbody tr th {\n",
       "        vertical-align: top;\n",
       "    }\n",
       "\n",
       "    .dataframe thead th {\n",
       "        text-align: right;\n",
       "    }\n",
       "</style>\n",
       "<table border=\"1\" class=\"dataframe\">\n",
       "  <thead>\n",
       "    <tr style=\"text-align: right;\">\n",
       "      <th></th>\n",
       "      <th>entries</th>\n",
       "      <th>utm_source</th>\n",
       "      <th>month</th>\n",
       "      <th>hit_count</th>\n",
       "      <th>count_page</th>\n",
       "      <th>utm_medium_banner</th>\n",
       "      <th>utm_medium_cpc</th>\n",
       "      <th>utm_medium_cpm</th>\n",
       "      <th>utm_medium_organic</th>\n",
       "      <th>utm_medium_other</th>\n",
       "      <th>...</th>\n",
       "      <th>device_browser_Chrome</th>\n",
       "      <th>device_browser_Safari</th>\n",
       "      <th>device_browser_other</th>\n",
       "      <th>geo_country_Russia</th>\n",
       "      <th>geo_country_other</th>\n",
       "      <th>geo_city_Krasnodar</th>\n",
       "      <th>geo_city_Moscow</th>\n",
       "      <th>geo_city_Saint Petersburg</th>\n",
       "      <th>geo_city_Yekaterinburg</th>\n",
       "      <th>geo_city_other</th>\n",
       "    </tr>\n",
       "  </thead>\n",
       "  <tbody>\n",
       "    <tr>\n",
       "      <th>0</th>\n",
       "      <td>0.020408</td>\n",
       "      <td>0.0</td>\n",
       "      <td>0.928571</td>\n",
       "      <td>0.114094</td>\n",
       "      <td>0.092593</td>\n",
       "      <td>1.0</td>\n",
       "      <td>0.0</td>\n",
       "      <td>0.0</td>\n",
       "      <td>0.0</td>\n",
       "      <td>0.0</td>\n",
       "      <td>...</td>\n",
       "      <td>1.0</td>\n",
       "      <td>0.0</td>\n",
       "      <td>0.0</td>\n",
       "      <td>1.0</td>\n",
       "      <td>0.0</td>\n",
       "      <td>0.0</td>\n",
       "      <td>0.0</td>\n",
       "      <td>0.0</td>\n",
       "      <td>0.0</td>\n",
       "      <td>1.0</td>\n",
       "    </tr>\n",
       "    <tr>\n",
       "      <th>1</th>\n",
       "      <td>0.000000</td>\n",
       "      <td>0.0</td>\n",
       "      <td>0.857143</td>\n",
       "      <td>0.134228</td>\n",
       "      <td>0.000000</td>\n",
       "      <td>0.0</td>\n",
       "      <td>0.0</td>\n",
       "      <td>0.0</td>\n",
       "      <td>1.0</td>\n",
       "      <td>0.0</td>\n",
       "      <td>...</td>\n",
       "      <td>0.0</td>\n",
       "      <td>0.0</td>\n",
       "      <td>1.0</td>\n",
       "      <td>1.0</td>\n",
       "      <td>0.0</td>\n",
       "      <td>0.0</td>\n",
       "      <td>0.0</td>\n",
       "      <td>1.0</td>\n",
       "      <td>0.0</td>\n",
       "      <td>0.0</td>\n",
       "    </tr>\n",
       "    <tr>\n",
       "      <th>2</th>\n",
       "      <td>0.000000</td>\n",
       "      <td>0.0</td>\n",
       "      <td>0.285714</td>\n",
       "      <td>0.013423</td>\n",
       "      <td>0.000000</td>\n",
       "      <td>0.0</td>\n",
       "      <td>0.0</td>\n",
       "      <td>0.0</td>\n",
       "      <td>1.0</td>\n",
       "      <td>0.0</td>\n",
       "      <td>...</td>\n",
       "      <td>1.0</td>\n",
       "      <td>0.0</td>\n",
       "      <td>0.0</td>\n",
       "      <td>1.0</td>\n",
       "      <td>0.0</td>\n",
       "      <td>0.0</td>\n",
       "      <td>1.0</td>\n",
       "      <td>0.0</td>\n",
       "      <td>0.0</td>\n",
       "      <td>0.0</td>\n",
       "    </tr>\n",
       "    <tr>\n",
       "      <th>3</th>\n",
       "      <td>0.000000</td>\n",
       "      <td>1.0</td>\n",
       "      <td>0.714286</td>\n",
       "      <td>0.000000</td>\n",
       "      <td>0.000000</td>\n",
       "      <td>0.0</td>\n",
       "      <td>0.0</td>\n",
       "      <td>0.0</td>\n",
       "      <td>0.0</td>\n",
       "      <td>1.0</td>\n",
       "      <td>...</td>\n",
       "      <td>1.0</td>\n",
       "      <td>0.0</td>\n",
       "      <td>0.0</td>\n",
       "      <td>1.0</td>\n",
       "      <td>0.0</td>\n",
       "      <td>0.0</td>\n",
       "      <td>0.0</td>\n",
       "      <td>0.0</td>\n",
       "      <td>0.0</td>\n",
       "      <td>1.0</td>\n",
       "    </tr>\n",
       "    <tr>\n",
       "      <th>4</th>\n",
       "      <td>0.000000</td>\n",
       "      <td>0.0</td>\n",
       "      <td>0.857143</td>\n",
       "      <td>0.154362</td>\n",
       "      <td>0.037037</td>\n",
       "      <td>1.0</td>\n",
       "      <td>0.0</td>\n",
       "      <td>0.0</td>\n",
       "      <td>0.0</td>\n",
       "      <td>0.0</td>\n",
       "      <td>...</td>\n",
       "      <td>1.0</td>\n",
       "      <td>0.0</td>\n",
       "      <td>0.0</td>\n",
       "      <td>1.0</td>\n",
       "      <td>0.0</td>\n",
       "      <td>0.0</td>\n",
       "      <td>0.0</td>\n",
       "      <td>1.0</td>\n",
       "      <td>0.0</td>\n",
       "      <td>0.0</td>\n",
       "    </tr>\n",
       "  </tbody>\n",
       "</table>\n",
       "<p>5 rows × 33 columns</p>\n",
       "</div>"
      ],
      "text/plain": [
       "    entries  utm_source     month  hit_count  count_page  utm_medium_banner  \\\n",
       "0  0.020408         0.0  0.928571   0.114094    0.092593                1.0   \n",
       "1  0.000000         0.0  0.857143   0.134228    0.000000                0.0   \n",
       "2  0.000000         0.0  0.285714   0.013423    0.000000                0.0   \n",
       "3  0.000000         1.0  0.714286   0.000000    0.000000                0.0   \n",
       "4  0.000000         0.0  0.857143   0.154362    0.037037                1.0   \n",
       "\n",
       "   utm_medium_cpc  utm_medium_cpm  utm_medium_organic  utm_medium_other  ...  \\\n",
       "0             0.0             0.0                 0.0               0.0  ...   \n",
       "1             0.0             0.0                 1.0               0.0  ...   \n",
       "2             0.0             0.0                 1.0               0.0  ...   \n",
       "3             0.0             0.0                 0.0               1.0  ...   \n",
       "4             0.0             0.0                 0.0               0.0  ...   \n",
       "\n",
       "   device_browser_Chrome  device_browser_Safari  device_browser_other  \\\n",
       "0                    1.0                    0.0                   0.0   \n",
       "1                    0.0                    0.0                   1.0   \n",
       "2                    1.0                    0.0                   0.0   \n",
       "3                    1.0                    0.0                   0.0   \n",
       "4                    1.0                    0.0                   0.0   \n",
       "\n",
       "   geo_country_Russia  geo_country_other  geo_city_Krasnodar  geo_city_Moscow  \\\n",
       "0                 1.0                0.0                 0.0              0.0   \n",
       "1                 1.0                0.0                 0.0              0.0   \n",
       "2                 1.0                0.0                 0.0              1.0   \n",
       "3                 1.0                0.0                 0.0              0.0   \n",
       "4                 1.0                0.0                 0.0              0.0   \n",
       "\n",
       "   geo_city_Saint Petersburg  geo_city_Yekaterinburg  geo_city_other  \n",
       "0                        0.0                     0.0             1.0  \n",
       "1                        1.0                     0.0             0.0  \n",
       "2                        0.0                     0.0             0.0  \n",
       "3                        0.0                     0.0             1.0  \n",
       "4                        1.0                     0.0             0.0  \n",
       "\n",
       "[5 rows x 33 columns]"
      ]
     },
     "execution_count": 13,
     "metadata": {},
     "output_type": "execute_result"
    }
   ],
   "source": [
    "x_train.head()"
   ]
  },
  {
   "cell_type": "code",
   "execution_count": 12,
   "metadata": {},
   "outputs": [
    {
     "data": {
      "text/html": [
       "<div>\n",
       "<style scoped>\n",
       "    .dataframe tbody tr th:only-of-type {\n",
       "        vertical-align: middle;\n",
       "    }\n",
       "\n",
       "    .dataframe tbody tr th {\n",
       "        vertical-align: top;\n",
       "    }\n",
       "\n",
       "    .dataframe thead th {\n",
       "        text-align: right;\n",
       "    }\n",
       "</style>\n",
       "<table border=\"1\" class=\"dataframe\">\n",
       "  <thead>\n",
       "    <tr style=\"text-align: right;\">\n",
       "      <th></th>\n",
       "      <th>entries</th>\n",
       "      <th>utm_source</th>\n",
       "      <th>month</th>\n",
       "      <th>hit_count</th>\n",
       "      <th>count_page</th>\n",
       "      <th>utm_medium_banner</th>\n",
       "      <th>utm_medium_cpc</th>\n",
       "      <th>utm_medium_cpm</th>\n",
       "      <th>utm_medium_organic</th>\n",
       "      <th>utm_medium_other</th>\n",
       "      <th>...</th>\n",
       "      <th>device_browser_Chrome</th>\n",
       "      <th>device_browser_Safari</th>\n",
       "      <th>device_browser_other</th>\n",
       "      <th>geo_country_Russia</th>\n",
       "      <th>geo_country_other</th>\n",
       "      <th>geo_city_Krasnodar</th>\n",
       "      <th>geo_city_Moscow</th>\n",
       "      <th>geo_city_Saint Petersburg</th>\n",
       "      <th>geo_city_Yekaterinburg</th>\n",
       "      <th>geo_city_other</th>\n",
       "    </tr>\n",
       "  </thead>\n",
       "  <tbody>\n",
       "    <tr>\n",
       "      <th>0</th>\n",
       "      <td>0.000000</td>\n",
       "      <td>0.0</td>\n",
       "      <td>1.000000</td>\n",
       "      <td>0.181208</td>\n",
       "      <td>0.111111</td>\n",
       "      <td>1.0</td>\n",
       "      <td>0.0</td>\n",
       "      <td>0.0</td>\n",
       "      <td>0.0</td>\n",
       "      <td>0.0</td>\n",
       "      <td>...</td>\n",
       "      <td>0.0</td>\n",
       "      <td>1.0</td>\n",
       "      <td>0.0</td>\n",
       "      <td>1.0</td>\n",
       "      <td>0.0</td>\n",
       "      <td>0.0</td>\n",
       "      <td>1.0</td>\n",
       "      <td>0.0</td>\n",
       "      <td>0.0</td>\n",
       "      <td>0.0</td>\n",
       "    </tr>\n",
       "    <tr>\n",
       "      <th>1</th>\n",
       "      <td>0.020408</td>\n",
       "      <td>0.0</td>\n",
       "      <td>0.642857</td>\n",
       "      <td>0.010067</td>\n",
       "      <td>0.000000</td>\n",
       "      <td>0.0</td>\n",
       "      <td>0.0</td>\n",
       "      <td>0.0</td>\n",
       "      <td>1.0</td>\n",
       "      <td>0.0</td>\n",
       "      <td>...</td>\n",
       "      <td>1.0</td>\n",
       "      <td>0.0</td>\n",
       "      <td>0.0</td>\n",
       "      <td>1.0</td>\n",
       "      <td>0.0</td>\n",
       "      <td>0.0</td>\n",
       "      <td>0.0</td>\n",
       "      <td>0.0</td>\n",
       "      <td>0.0</td>\n",
       "      <td>1.0</td>\n",
       "    </tr>\n",
       "    <tr>\n",
       "      <th>2</th>\n",
       "      <td>0.000000</td>\n",
       "      <td>0.0</td>\n",
       "      <td>0.000000</td>\n",
       "      <td>0.046980</td>\n",
       "      <td>0.037037</td>\n",
       "      <td>0.0</td>\n",
       "      <td>0.0</td>\n",
       "      <td>0.0</td>\n",
       "      <td>1.0</td>\n",
       "      <td>0.0</td>\n",
       "      <td>...</td>\n",
       "      <td>0.0</td>\n",
       "      <td>1.0</td>\n",
       "      <td>0.0</td>\n",
       "      <td>1.0</td>\n",
       "      <td>0.0</td>\n",
       "      <td>0.0</td>\n",
       "      <td>1.0</td>\n",
       "      <td>0.0</td>\n",
       "      <td>0.0</td>\n",
       "      <td>0.0</td>\n",
       "    </tr>\n",
       "    <tr>\n",
       "      <th>3</th>\n",
       "      <td>0.000000</td>\n",
       "      <td>0.0</td>\n",
       "      <td>0.285714</td>\n",
       "      <td>0.073826</td>\n",
       "      <td>0.074074</td>\n",
       "      <td>0.0</td>\n",
       "      <td>0.0</td>\n",
       "      <td>0.0</td>\n",
       "      <td>1.0</td>\n",
       "      <td>0.0</td>\n",
       "      <td>...</td>\n",
       "      <td>0.0</td>\n",
       "      <td>1.0</td>\n",
       "      <td>0.0</td>\n",
       "      <td>1.0</td>\n",
       "      <td>0.0</td>\n",
       "      <td>0.0</td>\n",
       "      <td>1.0</td>\n",
       "      <td>0.0</td>\n",
       "      <td>0.0</td>\n",
       "      <td>0.0</td>\n",
       "    </tr>\n",
       "    <tr>\n",
       "      <th>4</th>\n",
       "      <td>0.000000</td>\n",
       "      <td>0.0</td>\n",
       "      <td>0.142857</td>\n",
       "      <td>0.000000</td>\n",
       "      <td>0.000000</td>\n",
       "      <td>0.0</td>\n",
       "      <td>1.0</td>\n",
       "      <td>0.0</td>\n",
       "      <td>0.0</td>\n",
       "      <td>0.0</td>\n",
       "      <td>...</td>\n",
       "      <td>1.0</td>\n",
       "      <td>0.0</td>\n",
       "      <td>0.0</td>\n",
       "      <td>1.0</td>\n",
       "      <td>0.0</td>\n",
       "      <td>0.0</td>\n",
       "      <td>0.0</td>\n",
       "      <td>1.0</td>\n",
       "      <td>0.0</td>\n",
       "      <td>0.0</td>\n",
       "    </tr>\n",
       "  </tbody>\n",
       "</table>\n",
       "<p>5 rows × 33 columns</p>\n",
       "</div>"
      ],
      "text/plain": [
       "    entries  utm_source     month  hit_count  count_page  utm_medium_banner  \\\n",
       "0  0.000000         0.0  1.000000   0.181208    0.111111                1.0   \n",
       "1  0.020408         0.0  0.642857   0.010067    0.000000                0.0   \n",
       "2  0.000000         0.0  0.000000   0.046980    0.037037                0.0   \n",
       "3  0.000000         0.0  0.285714   0.073826    0.074074                0.0   \n",
       "4  0.000000         0.0  0.142857   0.000000    0.000000                0.0   \n",
       "\n",
       "   utm_medium_cpc  utm_medium_cpm  utm_medium_organic  utm_medium_other  ...  \\\n",
       "0             0.0             0.0                 0.0               0.0  ...   \n",
       "1             0.0             0.0                 1.0               0.0  ...   \n",
       "2             0.0             0.0                 1.0               0.0  ...   \n",
       "3             0.0             0.0                 1.0               0.0  ...   \n",
       "4             1.0             0.0                 0.0               0.0  ...   \n",
       "\n",
       "   device_browser_Chrome  device_browser_Safari  device_browser_other  \\\n",
       "0                    0.0                    1.0                   0.0   \n",
       "1                    1.0                    0.0                   0.0   \n",
       "2                    0.0                    1.0                   0.0   \n",
       "3                    0.0                    1.0                   0.0   \n",
       "4                    1.0                    0.0                   0.0   \n",
       "\n",
       "   geo_country_Russia  geo_country_other  geo_city_Krasnodar  geo_city_Moscow  \\\n",
       "0                 1.0                0.0                 0.0              1.0   \n",
       "1                 1.0                0.0                 0.0              0.0   \n",
       "2                 1.0                0.0                 0.0              1.0   \n",
       "3                 1.0                0.0                 0.0              1.0   \n",
       "4                 1.0                0.0                 0.0              0.0   \n",
       "\n",
       "   geo_city_Saint Petersburg  geo_city_Yekaterinburg  geo_city_other  \n",
       "0                        0.0                     0.0             0.0  \n",
       "1                        0.0                     0.0             1.0  \n",
       "2                        0.0                     0.0             0.0  \n",
       "3                        0.0                     0.0             0.0  \n",
       "4                        1.0                     0.0             0.0  \n",
       "\n",
       "[5 rows x 33 columns]"
      ]
     },
     "execution_count": 12,
     "metadata": {},
     "output_type": "execute_result"
    }
   ],
   "source": [
    "x_test.head()"
   ]
  },
  {
   "cell_type": "markdown",
   "metadata": {},
   "source": [
    "## Modeling"
   ]
  },
  {
   "cell_type": "code",
   "execution_count": 14,
   "metadata": {},
   "outputs": [
    {
     "name": "stdout",
     "output_type": "stream",
     "text": [
      "0.5206\n"
     ]
    }
   ],
   "source": [
    "# Применим лог рег\n",
    "\n",
    "model = LogisticRegression()\n",
    "\n",
    "model.fit(x_train, y_train)\n",
    "\n",
    "pred = model.predict(x_test)\n",
    "\n",
    "print(round(roc_auc_score(y_test, pred), 4))"
   ]
  },
  {
   "cell_type": "code",
   "execution_count": 15,
   "metadata": {},
   "outputs": [
    {
     "name": "stdout",
     "output_type": "stream",
     "text": [
      "[[16.40128678  0.2665832  -0.75057909  5.66169223  1.82843216  0.01959886\n",
      "  -0.22003894 -0.80015126  0.07331606 -0.39454494 -0.47768779 -0.35952554\n",
      "  -0.48460689 -0.270554   -0.29807161 -0.09063931 -0.34865968 -0.31389563\n",
      "  -0.40481487 -0.25402868 -0.15154342 -0.29974001 -0.21169326 -0.4208001\n",
      "  -0.49579926 -0.40522087 -0.55669543 -0.7651248  -0.07670986 -0.18763019\n",
      "  -0.31098992 -0.41791782 -0.32857244]]\n"
     ]
    }
   ],
   "source": [
    "print(model.coef_)"
   ]
  },
  {
   "cell_type": "code",
   "execution_count": 41,
   "metadata": {},
   "outputs": [],
   "source": [
    "# Сделаем перевод вероятностей предсказаний логистической регрессии в классы с разным значением порога\n",
    "pred_proba = pd.DataFrame({'proba': model.predict_proba(x_test)[:,1].T})"
   ]
  },
  {
   "cell_type": "code",
   "execution_count": 49,
   "metadata": {},
   "outputs": [
    {
     "name": "stdout",
     "output_type": "stream",
     "text": [
      "i - 0.05, res - 0.7055\n",
      "i - 0.1, res - 0.615\n",
      "i - 0.15000000000000002, res - 0.5751\n",
      "i - 0.2, res - 0.5555\n",
      "i - 0.25, res - 0.5449\n",
      "i - 0.3, res - 0.5374\n",
      "i - 0.35000000000000003, res - 0.5316\n",
      "i - 0.4, res - 0.527\n",
      "i - 0.45, res - 0.5233\n",
      "i - 0.5, res - 0.5206\n",
      "i - 0.55, res - 0.5178\n",
      "i - 0.6000000000000001, res - 0.516\n",
      "i - 0.6500000000000001, res - 0.5142\n",
      "i - 0.7000000000000001, res - 0.5122\n",
      "i - 0.7500000000000001, res - 0.5108\n",
      "i - 0.8, res - 0.5095\n",
      "i - 0.8500000000000001, res - 0.5079\n",
      "i - 0.9000000000000001, res - 0.5066\n",
      "0.05\n",
      "0.7055\n"
     ]
    }
   ],
   "source": [
    "treshold = 0\n",
    "best_res = 0\n",
    "for i in np.arange(0.05, 0.95, 0.05):\n",
    "    res = pred_proba['proba'].apply(lambda x:0 if x < i else 1)\n",
    "    tmp_score = round(roc_auc_score(y_test, res), 4)\n",
    "    if tmp_score > best_res:\n",
    "        best_res = tmp_score\n",
    "        treshold = i\n",
    "    print(f\"i - {i}, res - {tmp_score}\")\n",
    "print(treshold)\n",
    "print(best_res)"
   ]
  },
  {
   "cell_type": "code",
   "execution_count": 50,
   "metadata": {},
   "outputs": [
    {
     "name": "stdout",
     "output_type": "stream",
     "text": [
      "i - 0.01, res - 0.539\n",
      "i - 0.02, res - 0.6963\n",
      "i - 0.03, res - 0.7462\n",
      "i - 0.04, res - 0.7342\n",
      "i - 0.05, res - 0.7055\n",
      "i - 0.060000000000000005, res - 0.681\n",
      "i - 0.06999999999999999, res - 0.659\n",
      "i - 0.08, res - 0.6417\n",
      "i - 0.09, res - 0.6267\n",
      "i - 0.09999999999999999, res - 0.615\n",
      "i - 0.11, res - 0.6042\n",
      "i - 0.12, res - 0.5951\n",
      "i - 0.13, res - 0.5863\n",
      "i - 0.14, res - 0.5807\n",
      "0.03\n",
      "0.7462\n"
     ]
    }
   ],
   "source": [
    "treshold = 0\n",
    "best_res = 0\n",
    "for i in np.arange(0.01, 0.15, 0.01):\n",
    "    res = pred_proba['proba'].apply(lambda x:0 if x < i else 1)\n",
    "    tmp_score = round(roc_auc_score(y_test, res), 4)\n",
    "    if tmp_score > best_res:\n",
    "        best_res = tmp_score\n",
    "        treshold = i\n",
    "    print(f\"i - {i}, res - {tmp_score}\")\n",
    "print(treshold)\n",
    "print(best_res)"
   ]
  },
  {
   "cell_type": "code",
   "execution_count": null,
   "metadata": {},
   "outputs": [],
   "source": [
    "# Лучшее значение в 0,746 получаем при пороге 0,03"
   ]
  },
  {
   "cell_type": "code",
   "execution_count": null,
   "metadata": {},
   "outputs": [],
   "source": [
    "# Сделаем pipeline решения и обучим его на всем датасете"
   ]
  },
  {
   "cell_type": "markdown",
   "metadata": {},
   "source": [
    "## Tecnical"
   ]
  },
  {
   "cell_type": "code",
   "execution_count": null,
   "metadata": {},
   "outputs": [],
   "source": [
    "def sessions_transform(sessions):\n",
    "    sessions.drop_duplicates()\n",
    "\n",
    "    # Удаляем колонки с пустыми и неинформативными значениями\n",
    "    empty_cols = ['utm_keyword', 'device_os', 'device_model', 'utm_campaign', 'utm_adcontent', 'visit_time']\n",
    "    sessions = sessions.drop(empty_cols, axis=1)\n",
    "\n",
    "    # Делим траффик на органический и самые популярные неорганические каналы\n",
    "    sessions['utm_medium'] = sessions['utm_medium'].apply(lambda x: 'organic' if x in ['organic', 'referral', '(none)'] else x)\n",
    "    sessions['utm_medium'] = sessions['utm_medium'].apply(lambda x: x if x in ['organic', 'banner', 'cpc', 'cpm'] else 'other')\n",
    "\n",
    "    # Рекламу в соц сетях разделим на да - 1, нет - 0\n",
    "    commerce = ['QxAxdyPLuQMEcrdZWdWb', 'MvfHsxITijuriZxsqZqt', 'ISrKoXQCxqqYvAZICvjs',\n",
    "    'IZEXUFLARCUMynmHNBGo', 'PlbkrSYoHuZBWfYjYnfw',\n",
    "    'gVRrcxiDQubJiljoTbGm']\n",
    "    sessions['utm_source'] = sessions['utm_source'].apply(lambda x: 1 if x in commerce else 0)\n",
    "\n",
    "    # Разделю на самые популярные и остальные\n",
    "    sessions['device_brand'] = sessions['device_brand'].apply(lambda x: x if x in ['Apple', 'Samsung', 'Xiaomi', 'Huawei'] \n",
    "                                                      else 'other')\n",
    "    sessions['device_screen_resolution'] = sessions['device_screen_resolution'].apply(lambda x: x if x in \n",
    "                                    ['414x896', '1920x1080', '375x812', '393x851'] else 'other')\n",
    "\n",
    "    # Разделю на Хром, Сафари и остальные. Отдельно соберу Сафари в одну строку\n",
    "    sessions['device_browser'] = sessions['device_browser'].apply(lambda x: 'Safari' if 'Safari' in \n",
    "                                    x else x)\n",
    "    sessions['device_browser'] = sessions['device_browser'].apply(lambda x: x if x in ['Safari', 'Chrome'] else 'other')\n",
    "\n",
    "    # Россия - 1, остальные - 0\n",
    "    sessions['geo_country'] = sessions['geo_country'].apply(lambda x: x if x == 'Russia' else 'other')        \n",
    "\n",
    "    # Разделю на самые популярные и остальные\n",
    "    cities = ['Moscow', 'Saint Petersburg', 'Yekaterinburg', 'Krasnodar']\n",
    "    sessions['geo_city'] = sessions['geo_city'].apply(lambda x: x if x in cities else 'other')\n",
    "\n",
    "    # Дату визита разделю на месяц, так как все данные за один год.\n",
    "    sessions['month'] = sessions['visit_date'].apply(lambda x: x.month)\n",
    "    sessions = sessions.drop(['visit_date'], axis=1)\n",
    "\n",
    "    return sessions\n",
    "\n",
    "\n",
    "def hits_transform(hits):\n",
    "    #drop_duplicates\n",
    "    hits.drop_duplicates()\n",
    "\n",
    "    # del empty cols\n",
    "    empty_cols_2 = ['hit_time', 'hit_referer', 'event_label', 'event_value']\n",
    "    hits = hits.drop(empty_cols_2, axis=1)\n",
    "\n",
    "    # Переведу целевые действия в 0/1\n",
    "    goal = ['sub_car_claim_click', 'sub_car_claim_submit_click', 'sub_open_dialog_click', 'sub_custom_question_submit_click',\n",
    "    'sub_call_number_click', 'sub_callback_submit_click', 'sub_submit_success', 'sub_car_request_submit_click']\n",
    "    hits['event_action'] = hits['event_action'].apply(lambda x: 1 if x in goal else 0)\n",
    "\n",
    "    # Проведу группировку по session_id и аггрегацию \n",
    "    hits_2 = hits.groupby('session_id').agg(hit_count=('hit_type','count'),\n",
    "                  count_page=('hit_page_path', 'nunique'),\n",
    "                  target=('event_action', 'sum'))\n",
    "    hits_2.reset_index(inplace= True)\n",
    "\n",
    "    return hits_2\n",
    "\n",
    "\n",
    "def df_merge(sessions, hits_2):\n",
    "    df_merged = pd.merge(\n",
    "        sessions, hits_2,\n",
    "        left_on='session_id',\n",
    "        right_on='session_id'\n",
    "    )\n",
    "\n",
    "    # Сделаем группировку по client_id и аггрегацию по остальным столбцам\n",
    "    get_max = lambda x: pd.Series.mode(x)[0]\n",
    "    df_merged_fin = df_merged.groupby('client_id').agg(entries=('session_id','nunique'),\n",
    "                  utm_source=('utm_source', 'mean'), utm_medium=('utm_medium', get_max),\n",
    "                  device_category=('device_category', get_max), device_brand=('device_brand', get_max),\n",
    "                  device_screen_resolution=('device_screen_resolution', get_max), \n",
    "                  device_browser=('device_browser', get_max), geo_country=('geo_country', get_max), \n",
    "                  geo_city=('geo_city', get_max), month=('month', 'mean'), \n",
    "                  hit_count=('hit_count', 'mean'), count_page=('count_page', 'mean'),                                                   \n",
    "                  target=('target', 'sum')\n",
    "                  )\n",
    "    df_merged_fin.reset_index(inplace= True)   \n",
    "\n",
    "    # Уберем аномалии по следующему принципу:\n",
    "    # entries - количество заходов до 50,\n",
    "    # hit_count - количество действий - до 150\n",
    "    # target - количество целевых действий - до 30\n",
    "    # Уберем колонку client_id и target переведем в 0/1 (1 - 1 и больше целевых действий)\n",
    "    df_final = df_merged_fin.drop(['client_id'], axis=1)\n",
    "    df_final = df_final[(df_final['entries'] <= 50) & (df_final['hit_count'] <= 150) & (df_final['target'] <= 30)]\n",
    "    df_final['target'] = df_final['target'].apply(lambda x: 0 if x < 1 else 1)\n",
    "\n",
    "    return df_final\n",
    "\n",
    "def divide(df_final):\n",
    "    X = df_final.drop(['target'], axis=1)\n",
    "    y = df_final['target']\n",
    "    return X, y\n",
    "\n",
    "def x_transform(X):\n",
    "    num_col = X.select_dtypes(include=['float64', 'int64']).columns.to_list()[1:]\n",
    "    cat_col = X.select_dtypes(include=['object']).columns.to_list()\n",
    "\n",
    "    ohe = OneHotEncoder(sparse=False)\n",
    "    data = X[cat_col]\n",
    "    ohe.fit(data)\n",
    "    ohe_categorical = ohe.transform(data)\n",
    "    X[ohe.get_feature_names_out()] = ohe_categorical\n",
    "    X = X.drop(cat_col, axis=1)\n",
    "    \n",
    "    mm_scaler = MinMaxScaler()\n",
    "    data = X[num_col]\n",
    "    mm_scaler.fit(data)\n",
    "    X[num_col] = pd.DataFrame(mm_scaler.transform(data), columns=num_col)\n",
    "    \n",
    "    return X  \n",
    "\n",
    "\n",
    "def log_model(X, y):\n",
    "    model = LogisticRegression()\n",
    "    model.fit(X, y)\n",
    "    return model\n",
    "    \n",
    "\n",
    "def pipeline():\n",
    "    with open('data/ga_sessions.pkl', 'rb') as file:\n",
    "        sessions = pickle.load(file)\n",
    "    with open('data/ga_hits-001.pkl', 'rb') as file:\n",
    "        hits = pickle.load(file)   \n",
    "    \n",
    "    # от загрузки исходников до X, y \n",
    "    preprocessor = Pipeline(steps=[\n",
    "        ('sessions_transform', FunctionTransformer(sessions_transform)),\n",
    "        ('hits_transform', FunctionTransformer(hits_transform)),\n",
    "        ('df_merge', FunctionTransformer(df_merge)),\n",
    "        ('divide', FunctionTransformer(divide)),\n",
    "        ('x_transform', FunctionTransformer(x_transform))\n",
    "    ])     \n",
    "\n",
    "    modeling = Pipeline(steps=[\n",
    "        ('modeling', FunctionTransformer(log_model))\n",
    "    ])\n",
    "    \n",
    "    pipe = Pipeline([\n",
    "            ('preprocessor', preprocessor),\n",
    "            ('modeling', modeling)\n",
    "        ])\n",
    "    \n",
    "    result = pipe(sessions, hits)\n",
    "    \n",
    "    with open('model/fin_model.pkl', 'wb') as file:\n",
    "        dill.dump(result, file)\n",
    "    \n",
    "    \n",
    "    \n",
    "if __name__ == '__main__':\n",
    "    pipeline() \n",
    "    "
   ]
  },
  {
   "cell_type": "code",
   "execution_count": null,
   "metadata": {},
   "outputs": [],
   "source": [
    "# И напищем файл предикт"
   ]
  },
  {
   "cell_type": "code",
   "execution_count": 2,
   "metadata": {},
   "outputs": [],
   "source": [
    "df = pd.read_csv('data\\pipe_sessions.csv')"
   ]
  },
  {
   "cell_type": "code",
   "execution_count": 3,
   "metadata": {},
   "outputs": [
    {
     "name": "stdout",
     "output_type": "stream",
     "text": [
      "session_id, 0, % isna 0.0 %\n",
      "client_id, 0, % isna 0.0 %\n",
      "visit_number, 0, % isna 0.0 %\n",
      "utm_source, 0, % isna 0.0 %\n",
      "utm_medium, 0, % isna 0.0 %\n",
      "device_category, 0, % isna 0.0 %\n",
      "device_brand, 0, % isna 0.0 %\n",
      "device_screen_resolution, 0, % isna 0.0 %\n",
      "device_browser, 0, % isna 0.0 %\n",
      "geo_country, 0, % isna 0.0 %\n",
      "geo_city, 0, % isna 0.0 %\n",
      "month, 0, % isna 0.0 %\n"
     ]
    }
   ],
   "source": [
    "cols = df.columns.to_list()\n",
    "\n",
    "for col in cols:\n",
    "    print(f'{col}, {sum(df[col].isna())}, % isna {round(100 * sum(df[col].isna()) / df.shape[0], 2)} %')"
   ]
  },
  {
   "cell_type": "code",
   "execution_count": 4,
   "metadata": {},
   "outputs": [
    {
     "name": "stdout",
     "output_type": "stream",
     "text": [
      "session_id, 0, % isna 0.0 %\n",
      "hit_count, 0, % isna 0.0 %\n",
      "count_page, 0, % isna 0.0 %\n",
      "target, 0, % isna 0.0 %\n"
     ]
    }
   ],
   "source": [
    "df = pd.read_csv('data\\pipe_hits_2.csv')\n",
    "cols = df.columns.to_list()\n",
    "for col in cols:\n",
    "    print(f'{col}, {sum(df[col].isna())}, % isna {round(100 * sum(df[col].isna()) / df.shape[0], 2)} %')"
   ]
  },
  {
   "cell_type": "code",
   "execution_count": 5,
   "metadata": {},
   "outputs": [
    {
     "name": "stdout",
     "output_type": "stream",
     "text": [
      "entries, 0, % isna 0.0 %\n",
      "utm_source, 0, % isna 0.0 %\n",
      "utm_medium, 0, % isna 0.0 %\n",
      "device_category, 0, % isna 0.0 %\n",
      "device_brand, 0, % isna 0.0 %\n",
      "device_screen_resolution, 0, % isna 0.0 %\n",
      "device_browser, 0, % isna 0.0 %\n",
      "geo_country, 0, % isna 0.0 %\n",
      "geo_city, 0, % isna 0.0 %\n",
      "month, 0, % isna 0.0 %\n",
      "hit_count, 0, % isna 0.0 %\n",
      "count_page, 0, % isna 0.0 %\n",
      "target, 0, % isna 0.0 %\n"
     ]
    }
   ],
   "source": [
    "df = pd.read_csv('data\\pipe_df_final.csv')\n",
    "cols = df.columns.to_list()\n",
    "for col in cols:\n",
    "    print(f'{col}, {sum(df[col].isna())}, % isna {round(100 * sum(df[col].isna()) / df.shape[0], 2)} %')"
   ]
  },
  {
   "cell_type": "code",
   "execution_count": 6,
   "metadata": {},
   "outputs": [
    {
     "name": "stdout",
     "output_type": "stream",
     "text": [
      "entries, 0, % isna 0.0 %\n",
      "utm_source, 0, % isna 0.0 %\n",
      "utm_medium, 0, % isna 0.0 %\n",
      "device_category, 0, % isna 0.0 %\n",
      "device_brand, 0, % isna 0.0 %\n",
      "device_screen_resolution, 0, % isna 0.0 %\n",
      "device_browser, 0, % isna 0.0 %\n",
      "geo_country, 0, % isna 0.0 %\n",
      "geo_city, 0, % isna 0.0 %\n",
      "month, 0, % isna 0.0 %\n",
      "hit_count, 0, % isna 0.0 %\n",
      "count_page, 0, % isna 0.0 %\n"
     ]
    }
   ],
   "source": [
    "df = pd.read_csv('data\\pipe_X.csv')\n",
    "cols = df.columns.to_list()\n",
    "for col in cols:\n",
    "    print(f'{col}, {sum(df[col].isna())}, % isna {round(100 * sum(df[col].isna()) / df.shape[0], 2)} %')"
   ]
  },
  {
   "cell_type": "code",
   "execution_count": 16,
   "metadata": {},
   "outputs": [
    {
     "name": "stdout",
     "output_type": "stream",
     "text": [
      "target, 0, % isna 0.0 %\n",
      "(1320086, 1)\n"
     ]
    }
   ],
   "source": [
    "df = pd.read_csv('data\\pipe_y.csv')\n",
    "cols = df.columns.to_list()\n",
    "for col in cols:\n",
    "    print(f'{col}, {sum(df[col].isna())}, % isna {round(100 * sum(df[col].isna()) / df.shape[0], 2)} %')\n",
    "print(df.shape)"
   ]
  },
  {
   "cell_type": "code",
   "execution_count": 13,
   "metadata": {},
   "outputs": [
    {
     "name": "stdout",
     "output_type": "stream",
     "text": [
      "entries, 0, % isna 0.0 %\n",
      "utm_source, 616, % isna 0.05 %\n",
      "month, 616, % isna 0.05 %\n",
      "hit_count, 616, % isna 0.05 %\n",
      "count_page, 616, % isna 0.05 %\n",
      "utm_medium_banner, 0, % isna 0.0 %\n",
      "utm_medium_cpc, 0, % isna 0.0 %\n",
      "utm_medium_cpm, 0, % isna 0.0 %\n",
      "utm_medium_organic, 0, % isna 0.0 %\n",
      "utm_medium_other, 0, % isna 0.0 %\n",
      "device_category_desktop, 0, % isna 0.0 %\n",
      "device_category_mobile, 0, % isna 0.0 %\n",
      "device_category_tablet, 0, % isna 0.0 %\n",
      "device_brand_Apple, 0, % isna 0.0 %\n",
      "device_brand_Huawei, 0, % isna 0.0 %\n",
      "device_brand_Samsung, 0, % isna 0.0 %\n",
      "device_brand_Xiaomi, 0, % isna 0.0 %\n",
      "device_brand_other, 0, % isna 0.0 %\n",
      "device_screen_resolution_1920x1080, 0, % isna 0.0 %\n",
      "device_screen_resolution_375x812, 0, % isna 0.0 %\n",
      "device_screen_resolution_393x851, 0, % isna 0.0 %\n",
      "device_screen_resolution_414x896, 0, % isna 0.0 %\n",
      "device_screen_resolution_other, 0, % isna 0.0 %\n",
      "device_browser_Chrome, 0, % isna 0.0 %\n",
      "device_browser_Safari, 0, % isna 0.0 %\n",
      "device_browser_other, 0, % isna 0.0 %\n",
      "geo_country_Russia, 0, % isna 0.0 %\n",
      "geo_country_other, 0, % isna 0.0 %\n",
      "geo_city_Krasnodar, 0, % isna 0.0 %\n",
      "geo_city_Moscow, 0, % isna 0.0 %\n",
      "geo_city_Saint Petersburg, 0, % isna 0.0 %\n",
      "geo_city_Yekaterinburg, 0, % isna 0.0 %\n",
      "geo_city_other, 0, % isna 0.0 %\n"
     ]
    }
   ],
   "source": [
    "df = pd.read_csv('data\\pipe_X_trans.csv')\n",
    "cols = df.columns.to_list()\n",
    "for col in cols:\n",
    "    print(f'{col}, {sum(df[col].isna())}, % isna {round(100 * sum(df[col].isna()) / df.shape[0], 2)} %')"
   ]
  },
  {
   "cell_type": "code",
   "execution_count": 14,
   "metadata": {},
   "outputs": [
    {
     "name": "stdout",
     "output_type": "stream",
     "text": [
      "entries, 0, % isna 0.0 %\n",
      "utm_source, 0, % isna 0.0 %\n",
      "month, 0, % isna 0.0 %\n",
      "hit_count, 0, % isna 0.0 %\n",
      "count_page, 0, % isna 0.0 %\n",
      "utm_medium_banner, 0, % isna 0.0 %\n",
      "utm_medium_cpc, 0, % isna 0.0 %\n",
      "utm_medium_cpm, 0, % isna 0.0 %\n",
      "utm_medium_organic, 0, % isna 0.0 %\n",
      "utm_medium_other, 0, % isna 0.0 %\n",
      "device_category_desktop, 0, % isna 0.0 %\n",
      "device_category_mobile, 0, % isna 0.0 %\n",
      "device_category_tablet, 0, % isna 0.0 %\n",
      "device_brand_Apple, 0, % isna 0.0 %\n",
      "device_brand_Huawei, 0, % isna 0.0 %\n",
      "device_brand_Samsung, 0, % isna 0.0 %\n",
      "device_brand_Xiaomi, 0, % isna 0.0 %\n",
      "device_brand_other, 0, % isna 0.0 %\n",
      "device_screen_resolution_1920x1080, 0, % isna 0.0 %\n",
      "device_screen_resolution_375x812, 0, % isna 0.0 %\n",
      "device_screen_resolution_393x851, 0, % isna 0.0 %\n",
      "device_screen_resolution_414x896, 0, % isna 0.0 %\n",
      "device_screen_resolution_other, 0, % isna 0.0 %\n",
      "device_browser_Chrome, 0, % isna 0.0 %\n",
      "device_browser_Safari, 0, % isna 0.0 %\n",
      "device_browser_other, 0, % isna 0.0 %\n",
      "geo_country_Russia, 0, % isna 0.0 %\n",
      "geo_country_other, 0, % isna 0.0 %\n",
      "geo_city_Krasnodar, 0, % isna 0.0 %\n",
      "geo_city_Moscow, 0, % isna 0.0 %\n",
      "geo_city_Saint Petersburg, 0, % isna 0.0 %\n",
      "geo_city_Yekaterinburg, 0, % isna 0.0 %\n",
      "geo_city_other, 0, % isna 0.0 %\n"
     ]
    }
   ],
   "source": [
    "df[['utm_source', 'month', 'hit_count', 'count_page']] = df[['utm_source', 'month', 'hit_count', 'count_page']]. fillna(df[['utm_source', 'month', 'hit_count', 'count_page']].mean())\n",
    "df = df.reset_index(drop=True)\n",
    "\n",
    "cols = df.columns.to_list()\n",
    "for col in cols:\n",
    "    print(f'{col}, {sum(df[col].isna())}, % isna {round(100 * sum(df[col].isna()) / df.shape[0], 2)} %')"
   ]
  },
  {
   "cell_type": "code",
   "execution_count": 15,
   "metadata": {},
   "outputs": [
    {
     "data": {
      "text/plain": [
       "(1320086, 33)"
      ]
     },
     "execution_count": 15,
     "metadata": {},
     "output_type": "execute_result"
    }
   ],
   "source": [
    "df.shape"
   ]
  },
  {
   "cell_type": "code",
   "execution_count": null,
   "metadata": {},
   "outputs": [],
   "source": []
  }
 ],
 "metadata": {
  "colab": {
   "authorship_tag": "ABX9TyPg1NS9ea8+5UGFsUA6hJM0",
   "provenance": []
  },
  "kernelspec": {
   "display_name": "Python 3 (ipykernel)",
   "language": "python",
   "name": "python3"
  },
  "language_info": {
   "codemirror_mode": {
    "name": "ipython",
    "version": 3
   },
   "file_extension": ".py",
   "mimetype": "text/x-python",
   "name": "python",
   "nbconvert_exporter": "python",
   "pygments_lexer": "ipython3",
   "version": "3.9.13"
  }
 },
 "nbformat": 4,
 "nbformat_minor": 1
}
